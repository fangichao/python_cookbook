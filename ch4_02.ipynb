{
 "cells": [
  {
   "cell_type": "markdown",
   "metadata": {},
   "source": [
    "# 4.8跳过迭代对象得开始部分\n",
    "* 问题：如何遍历可迭代对象除了开始几个元素以外的所有元素\n",
    "* 方案：使用itertools模块的dropwhile()函数"
   ]
  },
  {
   "cell_type": "code",
   "execution_count": 9,
   "metadata": {},
   "outputs": [
    {
     "name": "stdout",
     "output_type": "stream",
     "text": [
      "<_io.TextIOWrapper name='data_file/test1_3.txt' mode='r' encoding='cp936'> <_io.TextIOWrapper name='data_file/test1_3.txt' mode='r' encoding='cp936'> <_io.TextIOWrapper name='data_file/test1_3.txt' mode='r' encoding='cp936'> <_io.TextIOWrapper name='data_file/test1_3.txt' mode='r' encoding='cp936'> <_io.TextIOWrapper name='data_file/test1_3.txt' mode='r' encoding='cp936'> "
     ]
    }
   ],
   "source": [
    "with open('data_file/ch4_02.txt') as f:\n",
    "    for line in f:\n",
    "        print(f,end=' ')"
   ]
  },
  {
   "cell_type": "markdown",
   "metadata": {},
   "source": [
    "* ch4_02.txt 得文件开头几行是注释，想要跳过这几行\n",
    "* dropwhile()函数接收两个参数，一个函数对象，一个可迭代对象"
   ]
  },
  {
   "cell_type": "code",
   "execution_count": 24,
   "metadata": {},
   "outputs": [
    {
     "name": "stdout",
     "output_type": "stream",
     "text": [
      "a = 23\n",
      " # too\n",
      " b = 'i love' "
     ]
    }
   ],
   "source": [
    "from itertools import dropwhile\n",
    "with open('data_file/ch4_02.txt') as f:\n",
    "    for line in dropwhile(lambda line:line.startswith('#'),f):\n",
    "        print(line,end=' ')"
   ]
  },
  {
   "cell_type": "markdown",
   "metadata": {},
   "source": [
    "* 如果已经知道需要跳过多少个元素，则可以直接使用islice()"
   ]
  },
  {
   "cell_type": "code",
   "execution_count": 25,
   "metadata": {},
   "outputs": [
    {
     "name": "stdout",
     "output_type": "stream",
     "text": [
      "1 2 3 4 "
     ]
    }
   ],
   "source": [
    "items = ['a','b','c',1,2,3,4]\n",
    "from itertools import islice\n",
    "for x in islice(items,3,None):\n",
    "    print(x,end=' ')"
   ]
  },
  {
   "cell_type": "markdown",
   "metadata": {},
   "source": [
    "* 也可以使用过下述方法过滤掉开始的几行注释，但是不同的是，它不仅仅只过滤开头的注释行，文件中间的也会过滤"
   ]
  },
  {
   "cell_type": "code",
   "execution_count": 26,
   "metadata": {},
   "outputs": [
    {
     "name": "stdout",
     "output_type": "stream",
     "text": [
      "a = 23\n",
      " b = 'i love' "
     ]
    }
   ],
   "source": [
    "with open('data_file/ch4_02.txt') as f:\n",
    "    lines = (line for line in f if not line.startswith('#'))\n",
    "    for line in lines:\n",
    "        print(line,end=' ')"
   ]
  },
  {
   "cell_type": "markdown",
   "metadata": {},
   "source": [
    "# 4.9排列组合的迭代\n",
    "* 问题：想要迭代遍历一个几何中元素的所有可能的排列或者组合\n",
    "* 方案：使用itertools.permunations()\n",
    "* permutations()接收一个集合并产生一个元祖序列，元组的元素为集合中所有元素的一个可能的排列组合"
   ]
  },
  {
   "cell_type": "code",
   "execution_count": 28,
   "metadata": {
    "scrolled": true
   },
   "outputs": [
    {
     "name": "stdout",
     "output_type": "stream",
     "text": [
      "('a', 'b', 'c')\n",
      "('a', 'c', 'b')\n",
      "('b', 'a', 'c')\n",
      "('b', 'c', 'a')\n",
      "('c', 'a', 'b')\n",
      "('c', 'b', 'a')\n"
     ]
    }
   ],
   "source": [
    "items = ['a','b','c']\n",
    "from itertools import permutations\n",
    "for p in permutations(items):\n",
    "    print(p)"
   ]
  },
  {
   "cell_type": "markdown",
   "metadata": {},
   "source": [
    "* 也可以传给他一个可选的长度参数，用来指定长度的排列组合"
   ]
  },
  {
   "cell_type": "code",
   "execution_count": 29,
   "metadata": {},
   "outputs": [
    {
     "name": "stdout",
     "output_type": "stream",
     "text": [
      "('a', 'b')\n",
      "('a', 'c')\n",
      "('b', 'a')\n",
      "('b', 'c')\n",
      "('c', 'a')\n",
      "('c', 'b')\n"
     ]
    }
   ],
   "source": [
    "for p in permutations(items,2):\n",
    "    print(p)"
   ]
  },
  {
   "cell_type": "markdown",
   "metadata": {},
   "source": [
    "* 使用itertools.combinations()也可以得到输入集合元素的所有组合,但是注意区分和上一个的区别\n",
    "* 对于combinations（）来讲元素的顺序并不重要，（a,b）和（b,a）是一样的，只输出一个"
   ]
  },
  {
   "cell_type": "code",
   "execution_count": 34,
   "metadata": {},
   "outputs": [
    {
     "name": "stdout",
     "output_type": "stream",
     "text": [
      "('a', 'b', 'c')\n"
     ]
    }
   ],
   "source": [
    "from itertools import combinations\n",
    "items = ['a','b','c']\n",
    "for c in combinations(items,3):\n",
    "    print(c)"
   ]
  },
  {
   "cell_type": "code",
   "execution_count": 35,
   "metadata": {},
   "outputs": [
    {
     "name": "stdout",
     "output_type": "stream",
     "text": [
      "('a', 'b')\n",
      "('a', 'c')\n",
      "('b', 'c')\n"
     ]
    }
   ],
   "source": [
    "for c in combinations(items,2):\n",
    "    print(c)"
   ]
  },
  {
   "cell_type": "markdown",
   "metadata": {},
   "source": [
    "* 还可以使用itertools.combinations_with_replacement(),该函数允许同一个元素被选择多次"
   ]
  },
  {
   "cell_type": "code",
   "execution_count": 37,
   "metadata": {},
   "outputs": [
    {
     "name": "stdout",
     "output_type": "stream",
     "text": [
      "('a', 'a', 'a')\n",
      "('a', 'a', 'b')\n",
      "('a', 'a', 'c')\n",
      "('a', 'b', 'b')\n",
      "('a', 'b', 'c')\n",
      "('a', 'c', 'c')\n",
      "('b', 'b', 'b')\n",
      "('b', 'b', 'c')\n",
      "('b', 'c', 'c')\n",
      "('c', 'c', 'c')\n"
     ]
    }
   ],
   "source": [
    "from itertools import combinations_with_replacement\n",
    "for c in combinations_with_replacement(items,3):\n",
    "    print(c)"
   ]
  },
  {
   "cell_type": "markdown",
   "metadata": {},
   "source": [
    "# 4.10序列上索引值迭代\n",
    "* 问题：想要在迭代一个序列的同时跟踪正在被处理的元素索引\n",
    "* 方案：使用enumerate（）"
   ]
  },
  {
   "cell_type": "code",
   "execution_count": 38,
   "metadata": {},
   "outputs": [
    {
     "name": "stdout",
     "output_type": "stream",
     "text": [
      "0 a\n",
      "1 b\n",
      "2 c\n"
     ]
    }
   ],
   "source": [
    "my_list = ['a','b','c']\n",
    "for idx,val in enumerate(my_list):\n",
    "    print(idx,val)"
   ]
  },
  {
   "cell_type": "markdown",
   "metadata": {},
   "source": [
    "* 也可以传入一个可选的开始参数"
   ]
  },
  {
   "cell_type": "code",
   "execution_count": 42,
   "metadata": {},
   "outputs": [
    {
     "name": "stdout",
     "output_type": "stream",
     "text": [
      "1 a\n",
      "2 b\n",
      "3 c\n"
     ]
    }
   ],
   "source": [
    "for idx, val in enumerate(my_list,1):\n",
    "    print(idx,val)"
   ]
  },
  {
   "cell_type": "markdown",
   "metadata": {},
   "source": [
    "* 这种操作在遍历文件时想在错误文件中使用行号定位时很有用"
   ]
  },
  {
   "cell_type": "code",
   "execution_count": 43,
   "metadata": {},
   "outputs": [],
   "source": [
    "def parse_data(filename):\n",
    "    with open(filename) as f:\n",
    "        for lineno, line in enumerate(f,1):\n",
    "            fields = line.split()\n",
    "            try:\n",
    "                count = int(fields[1])\n",
    "                pass\n",
    "            except ValueError as e:\n",
    "                print('line {}:parse error:{}'.format(lineno,e))"
   ]
  },
  {
   "cell_type": "markdown",
   "metadata": {},
   "source": [
    "* 注意："
   ]
  },
  {
   "cell_type": "code",
   "execution_count": 48,
   "metadata": {},
   "outputs": [
    {
     "name": "stdout",
     "output_type": "stream",
     "text": [
      "0 : (1, 2)\n",
      "1 : (3, 4)\n",
      "2 : (5, 6)\n",
      "3 : (7, 8)\n"
     ]
    }
   ],
   "source": [
    "data = [(1,2),(3,4),(5,6),(7,8)]\n",
    "for n,(x,y) in enumerate(data):\n",
    "    print(n,':',(x,y))"
   ]
  },
  {
   "cell_type": "code",
   "execution_count": 49,
   "metadata": {},
   "outputs": [
    {
     "ename": "ValueError",
     "evalue": "not enough values to unpack (expected 3, got 2)",
     "output_type": "error",
     "traceback": [
      "\u001b[1;31m---------------------------------------------------------------------------\u001b[0m",
      "\u001b[1;31mValueError\u001b[0m                                Traceback (most recent call last)",
      "\u001b[1;32m<ipython-input-49-e9ca5f47e3c4>\u001b[0m in \u001b[0;36m<module>\u001b[1;34m()\u001b[0m\n\u001b[0;32m      1\u001b[0m \u001b[1;31m# 错误的\u001b[0m\u001b[1;33m\u001b[0m\u001b[1;33m\u001b[0m\u001b[0m\n\u001b[1;32m----> 2\u001b[1;33m \u001b[1;32mfor\u001b[0m \u001b[0mn\u001b[0m\u001b[1;33m,\u001b[0m\u001b[0mx\u001b[0m\u001b[1;33m,\u001b[0m\u001b[0my\u001b[0m \u001b[1;32min\u001b[0m \u001b[0menumerate\u001b[0m\u001b[1;33m(\u001b[0m\u001b[0mdata\u001b[0m\u001b[1;33m)\u001b[0m\u001b[1;33m:\u001b[0m\u001b[1;33m\u001b[0m\u001b[0m\n\u001b[0m\u001b[0;32m      3\u001b[0m     \u001b[0mprint\u001b[0m\u001b[1;33m(\u001b[0m\u001b[0mn\u001b[0m\u001b[1;33m,\u001b[0m\u001b[0mx\u001b[0m\u001b[1;33m,\u001b[0m\u001b[0my\u001b[0m\u001b[1;33m)\u001b[0m\u001b[1;33m\u001b[0m\u001b[0m\n",
      "\u001b[1;31mValueError\u001b[0m: not enough values to unpack (expected 3, got 2)"
     ]
    }
   ],
   "source": [
    "# 错误的\n",
    "for n,x,y in enumerate(data):\n",
    "    print(n,x,y)"
   ]
  },
  {
   "cell_type": "markdown",
   "metadata": {},
   "source": [
    "# 4.11同时迭代多个序列\n",
    "* 问题：想要同时迭代多个序列，每次从每个序列中选取一个元素\n",
    "* 方案：使用zip()函数"
   ]
  },
  {
   "cell_type": "code",
   "execution_count": 51,
   "metadata": {},
   "outputs": [
    {
     "name": "stdout",
     "output_type": "stream",
     "text": [
      "1 : a\n",
      "2 : b\n",
      "3 : c\n",
      "4 : d\n"
     ]
    }
   ],
   "source": [
    "a = [1,2,3,4]\n",
    "b = ['a','b','c','d']\n",
    "c = ['x','y','z']\n",
    "for x,y in zip(a,b):\n",
    "    print(x,':',y)"
   ]
  },
  {
   "cell_type": "markdown",
   "metadata": {},
   "source": [
    "* zip()函数会生成一个可以返回的元祖（x,y）的迭代器。一旦其中某个序列到达结尾，则迭代结束，因此迭代长度遵循“木桶效应”"
   ]
  },
  {
   "cell_type": "code",
   "execution_count": 52,
   "metadata": {},
   "outputs": [
    {
     "name": "stdout",
     "output_type": "stream",
     "text": [
      "1 : x\n",
      "2 : y\n",
      "3 : z\n"
     ]
    }
   ],
   "source": [
    "for x, y in zip(a,c):\n",
    "    print(x,':',y)"
   ]
  },
  {
   "cell_type": "markdown",
   "metadata": {},
   "source": [
    "* 如果你想要不遵循“木桶效应”，可以使用itertools.zip_longest()"
   ]
  },
  {
   "cell_type": "code",
   "execution_count": 56,
   "metadata": {},
   "outputs": [
    {
     "name": "stdout",
     "output_type": "stream",
     "text": [
      "(1, 'x')\n",
      "(2, 'y')\n",
      "(3, 'z')\n",
      "(4, None)\n"
     ]
    }
   ],
   "source": [
    "from itertools import zip_longest\n",
    "for i in zip_longest(a,c):\n",
    "    print(i)"
   ]
  },
  {
   "cell_type": "markdown",
   "metadata": {},
   "source": [
    "* 默认是用None填充，也可以指定填充值"
   ]
  },
  {
   "cell_type": "code",
   "execution_count": 59,
   "metadata": {},
   "outputs": [
    {
     "name": "stdout",
     "output_type": "stream",
     "text": [
      "(1, 'x')\n",
      "(2, 'y')\n",
      "(3, 'z')\n",
      "(4, 0)\n"
     ]
    }
   ],
   "source": [
    "for i in zip_longest(a,c,fillvalue=0):\n",
    "    print(i)"
   ]
  },
  {
   "cell_type": "markdown",
   "metadata": {},
   "source": [
    "* 当想要处理数据时，zip()也很有用 "
   ]
  },
  {
   "cell_type": "code",
   "execution_count": 61,
   "metadata": {},
   "outputs": [
    {
     "data": {
      "text/plain": [
       "[('name', 'FLC'), ('shares', 100), ('price', 99.09)]"
      ]
     },
     "execution_count": 61,
     "metadata": {},
     "output_type": "execute_result"
    }
   ],
   "source": [
    "headers = ['name','shares','price']\n",
    "values = ['FLC',100,99.09]\n",
    "s = list(zip(headers,values))\n",
    "s"
   ]
  },
  {
   "cell_type": "code",
   "execution_count": 62,
   "metadata": {},
   "outputs": [
    {
     "name": "stdout",
     "output_type": "stream",
     "text": [
      "name = FLC\n",
      "shares = 100\n",
      "price = 99.09\n"
     ]
    }
   ],
   "source": [
    "for name,val in s:\n",
    "    print(name,'=',val)"
   ]
  },
  {
   "cell_type": "markdown",
   "metadata": {},
   "source": [
    "* zip()函数也可以接收三个参数"
   ]
  },
  {
   "cell_type": "code",
   "execution_count": 63,
   "metadata": {},
   "outputs": [
    {
     "name": "stdout",
     "output_type": "stream",
     "text": [
      "(1, 'a', 10)\n",
      "(2, 'b', 20)\n",
      "(3, 'c', 30)\n"
     ]
    }
   ],
   "source": [
    "a = [1,2,3]\n",
    "b = ['a','b','c']\n",
    "c = [10,20,30]\n",
    "for i in zip(a,b,c):\n",
    "    print(i)"
   ]
  },
  {
   "cell_type": "markdown",
   "metadata": {},
   "source": [
    "* zip()会返回一个迭代器，如果想要将值存储在列表中，可以使用list()函数"
   ]
  },
  {
   "cell_type": "code",
   "execution_count": 64,
   "metadata": {},
   "outputs": [
    {
     "data": {
      "text/plain": [
       "<zip at 0x999df0>"
      ]
     },
     "execution_count": 64,
     "metadata": {},
     "output_type": "execute_result"
    }
   ],
   "source": [
    "zip(a,b)"
   ]
  },
  {
   "cell_type": "code",
   "execution_count": 65,
   "metadata": {},
   "outputs": [
    {
     "data": {
      "text/plain": [
       "[(1, 'a'), (2, 'b'), (3, 'c')]"
      ]
     },
     "execution_count": 65,
     "metadata": {},
     "output_type": "execute_result"
    }
   ],
   "source": [
    "list(zip(a,b))"
   ]
  },
  {
   "cell_type": "markdown",
   "metadata": {},
   "source": [
    "# 4.12 不同集合上元素的迭代\n",
    "* 问题：想要在多个对象上执行相同的操作，但是这些对象在不同的容器上\n",
    "* 方案：使用itertools.chain()\n",
    "* chain()函数接收一个可迭代对象列表作为输入，返回一个迭代器"
   ]
  },
  {
   "cell_type": "code",
   "execution_count": 1,
   "metadata": {},
   "outputs": [
    {
     "name": "stdout",
     "output_type": "stream",
     "text": [
      "1 2 3 a b c "
     ]
    }
   ],
   "source": [
    "from itertools import chain\n",
    "a = [1,2,3]\n",
    "b = ['a','b','c']\n",
    "for x in chain(a,b):\n",
    "    print(x,end=' ')"
   ]
  },
  {
   "cell_type": "markdown",
   "metadata": {},
   "source": [
    "* 也可以先将可迭代对象合并，但是效率很低,占用内存"
   ]
  },
  {
   "cell_type": "code",
   "execution_count": 2,
   "metadata": {},
   "outputs": [
    {
     "name": "stdout",
     "output_type": "stream",
     "text": [
      "1 2 3 a b c "
     ]
    }
   ],
   "source": [
    "for i in a+b:\n",
    "    print(i,end=' ')"
   ]
  },
  {
   "cell_type": "markdown",
   "metadata": {},
   "source": [
    "# 4.13创建数据处理管道\n",
    "* 问题：如何以数据管道的方式迭代处理数据\n",
    "* 方案：使用生成器函数\n",
    "* yield from语句，它将yield操作代理到父生成器上去。yield from it 简单的返回生成器it做产生的所有值"
   ]
  },
  {
   "cell_type": "code",
   "execution_count": 4,
   "metadata": {},
   "outputs": [],
   "source": [
    "import os,fnmatch,gzip,bz2,re\n",
    "def gen_find(filepat,top):\n",
    "    '''find all filenames in a directory tree that match a shell wildcard pattern'''\n",
    "    for path, dirlist, filelist in os.walk(top):\n",
    "        for name in fnmatch.filter(filelist,filepat):\n",
    "            yield os.path.join(path,name)\n",
    "\n",
    "def gen_opener(filenames):\n",
    "    '''open a sequence of files one at a time producing a file object.\n",
    "    the file is closed immediately when proceeding to the next iteration\n",
    "    '''\n",
    "    for filename in filenames:\n",
    "        if filename.endswith('.gz'):\n",
    "            f = gzip.open(filename,'rt')\n",
    "        elif filename.endswith('.bz2'):\n",
    "            f = bz2.open(filename,'rt')\n",
    "        else:\n",
    "            f = open(filename,'rt')\n",
    "        yield f\n",
    "        f.close()\n",
    "def gen_concatenate(iterators):\n",
    "    '''chain a sequence of iterator together into a single sequence'''\n",
    "    for it in iterators:\n",
    "        yield from it\n",
    "\n",
    "def gen_grep(pattern,lines):\n",
    "    '''look for a regex pattern in a sequence of lines'''\n",
    "    pat = re.compile(pattern)\n",
    "    for line in lines:\n",
    "        if pat.search(line):\n",
    "            yield line"
   ]
  },
  {
   "cell_type": "markdown",
   "metadata": {},
   "source": [
    "# 4.14展开嵌套的序列\n",
    "* 问题：如何将一个嵌套多层的序列展开成一个单层列表\n",
    "* 方案：编写一个包含yield from 语句的递归生成器"
   ]
  },
  {
   "cell_type": "code",
   "execution_count": 11,
   "metadata": {},
   "outputs": [
    {
     "name": "stdout",
     "output_type": "stream",
     "text": [
      "1 2 3 4 5 6 7 8 "
     ]
    }
   ],
   "source": [
    "from collections import Iterable\n",
    "def flatten(items,ignore_type = (str,bytes)):\n",
    "    for x in items:\n",
    "        '''isintance()用来检查某个元素是否是可以迭代的\n",
    "        isintance(x,ignor_type)用来将字符串和字节排除在可迭代对象之外，\n",
    "        防止将一个字符串拆分成单个字符\n",
    "        '''\n",
    "        if isinstance(x,Iterable) and not isinstance(x,ignore_type):\n",
    "            yield from flatten(x)\n",
    "        else:\n",
    "            yield x\n",
    "items = [1,2,[3,4,[5,6],7],8]\n",
    "for x in flatten(items):\n",
    "    print(x,end=' ')"
   ]
  },
  {
   "cell_type": "code",
   "execution_count": 12,
   "metadata": {},
   "outputs": [
    {
     "name": "stdout",
     "output_type": "stream",
     "text": [
      "Dave Paula Thomans Levis "
     ]
    }
   ],
   "source": [
    "items =  ['Dave','Paula',['Thomans','Levis']]\n",
    "for x in flatten(items):\n",
    "    print(x,end=' ')"
   ]
  },
  {
   "cell_type": "markdown",
   "metadata": {},
   "source": [
    "* yield from 在你想在生成器中调用其它生成器作为子例程时很有用，如果你不想使用它，需要写额外的for循环"
   ]
  },
  {
   "cell_type": "code",
   "execution_count": 13,
   "metadata": {},
   "outputs": [],
   "source": [
    "from collections import Iterable\n",
    "def flatten(items,ignore_type = (str,bytes)):\n",
    "    for x in items:\n",
    "        if isinstance(x,Iterable) and not isinstance(x,ignore_type):\n",
    "            for i in flatten(x):\n",
    "                yield i\n",
    "        else:\n",
    "            yield x"
   ]
  },
  {
   "cell_type": "markdown",
   "metadata": {},
   "source": [
    "# 4.15顺序迭代合并后的排序迭代对象\n",
    "* 问题：有一系列排序序列，想将它们合并后得到一个排序序列并迭代遍历\n",
    "* 方案：heapq.merge()"
   ]
  },
  {
   "cell_type": "code",
   "execution_count": 14,
   "metadata": {},
   "outputs": [
    {
     "name": "stdout",
     "output_type": "stream",
     "text": [
      "1 2 4 5 6 7 10 13 "
     ]
    }
   ],
   "source": [
    "import heapq\n",
    "a = [1,4,5,7]\n",
    "b = [2,6,10,13]\n",
    "for c in heapq.merge(a,b):\n",
    "    print(c,end=' ')"
   ]
  },
  {
   "cell_type": "markdown",
   "metadata": {},
   "source": [
    "# 4.16 迭代器代替while无限循环\n",
    "* 问题：使用迭代器代替while\n",
    "* 方案：一种常见的IO操作程序如下"
   ]
  },
  {
   "cell_type": "code",
   "execution_count": 16,
   "metadata": {},
   "outputs": [],
   "source": [
    "CHUNKSIZE = 8192\n",
    "def reader(s):\n",
    "    while True:\n",
    "        data = s.recv(CHUNKSIZE)\n",
    "        if data == b'':\n",
    "            break\n",
    "        #process_data(data)"
   ]
  },
  {
   "cell_type": "markdown",
   "metadata": {},
   "source": [
    "* 使用iter()代替"
   ]
  },
  {
   "cell_type": "code",
   "execution_count": 17,
   "metadata": {},
   "outputs": [],
   "source": [
    "def reader2(s):\n",
    "    for chunk in iter(lambda:s.recv(CHUNKSIZE),b''):\n",
    "        pass\n",
    "        #process_data(data)"
   ]
  },
  {
   "cell_type": "markdown",
   "metadata": {},
   "source": [
    "* iter() 函数一个鲜为人知的特性是他可以接收一个可选的callable对象和一个标记（结尾）值作为输入参数。当以这种方式使用的时候，它会创建一个迭代器，不断调用callable对象直到返回值和标记相等为止"
   ]
  },
  {
   "cell_type": "code",
   "execution_count": null,
   "metadata": {},
   "outputs": [],
   "source": []
  }
 ],
 "metadata": {
  "kernelspec": {
   "display_name": "Python 3",
   "language": "python",
   "name": "python3"
  },
  "language_info": {
   "codemirror_mode": {
    "name": "ipython",
    "version": 3
   },
   "file_extension": ".py",
   "mimetype": "text/x-python",
   "name": "python",
   "nbconvert_exporter": "python",
   "pygments_lexer": "ipython3",
   "version": "3.6.4"
  }
 },
 "nbformat": 4,
 "nbformat_minor": 2
}
