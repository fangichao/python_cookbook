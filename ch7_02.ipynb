{
 "cells": [
  {
   "cell_type": "markdown",
   "metadata": {},
   "source": [
    "# 7.7匿名函数捕获变量值\n",
    "* 问题：利用lambda定义了一个函数，想在定义时捕获变量的值\n",
    "* 方案：将参数定义为默认参数"
   ]
  },
  {
   "cell_type": "code",
   "execution_count": 1,
   "metadata": {},
   "outputs": [],
   "source": [
    "# 先看个例子\n",
    "x = 10\n",
    "a = lambda y: y + x\n",
    "x = 20\n",
    "b = lambda y: y + x\n",
    "#现在你认为a(10)和b(10)的结果是多少？"
   ]
  },
  {
   "cell_type": "code",
   "execution_count": 2,
   "metadata": {},
   "outputs": [
    {
     "data": {
      "text/plain": [
       "30"
      ]
     },
     "execution_count": 2,
     "metadata": {},
     "output_type": "execute_result"
    }
   ],
   "source": [
    "a(10)"
   ]
  },
  {
   "cell_type": "code",
   "execution_count": 3,
   "metadata": {},
   "outputs": [
    {
     "data": {
      "text/plain": [
       "30"
      ]
     },
     "execution_count": 3,
     "metadata": {},
     "output_type": "execute_result"
    }
   ],
   "source": [
    "b(10)"
   ]
  },
  {
   "cell_type": "markdown",
   "metadata": {},
   "source": [
    "* 这其中的奥妙在于 lambda 表达式中的 x 是一个自由变量，在运行时绑定值，而不是定义时就绑定，这跟函数的默认值参数定义是不同的。因此，在调用这个 lambda 表达式的时候， x 的值是执行时的值。"
   ]
  },
  {
   "cell_type": "code",
   "execution_count": 4,
   "metadata": {},
   "outputs": [
    {
     "data": {
      "text/plain": [
       "110"
      ]
     },
     "execution_count": 4,
     "metadata": {},
     "output_type": "execute_result"
    }
   ],
   "source": [
    "x = 100\n",
    "a(10)"
   ]
  },
  {
   "cell_type": "code",
   "execution_count": 5,
   "metadata": {},
   "outputs": [
    {
     "data": {
      "text/plain": [
       "110"
      ]
     },
     "execution_count": 5,
     "metadata": {},
     "output_type": "execute_result"
    }
   ],
   "source": [
    "b(10)"
   ]
  },
  {
   "cell_type": "markdown",
   "metadata": {},
   "source": [
    "* 如果想让某个匿名函数在定义时就捕获到该值，可以将该参数定义成默认参数"
   ]
  },
  {
   "cell_type": "code",
   "execution_count": 6,
   "metadata": {},
   "outputs": [],
   "source": [
    "x = 10\n",
    "a = lambda y, x=x: x+y\n",
    "x = 20\n",
    "b = lambda y, x=x: x+y"
   ]
  },
  {
   "cell_type": "code",
   "execution_count": 7,
   "metadata": {},
   "outputs": [
    {
     "data": {
      "text/plain": [
       "30"
      ]
     },
     "execution_count": 7,
     "metadata": {},
     "output_type": "execute_result"
    }
   ],
   "source": [
    "a(20)"
   ]
  },
  {
   "cell_type": "code",
   "execution_count": 8,
   "metadata": {},
   "outputs": [
    {
     "data": {
      "text/plain": [
       "40"
      ]
     },
     "execution_count": 8,
     "metadata": {},
     "output_type": "execute_result"
    }
   ],
   "source": [
    "b(20)"
   ]
  },
  {
   "cell_type": "code",
   "execution_count": 9,
   "metadata": {},
   "outputs": [
    {
     "data": {
      "text/plain": [
       "20"
      ]
     },
     "execution_count": 9,
     "metadata": {},
     "output_type": "execute_result"
    }
   ],
   "source": [
    "x = 100\n",
    "a(10)"
   ]
  },
  {
   "cell_type": "markdown",
   "metadata": {},
   "source": [
    "* 这里有一个很容易犯的错误：想通过一个循环或者列表推导创建一个lambda表达式列表，并期望函数能够在定义时记住每次迭代的值，如下（并不能满足期望）："
   ]
  },
  {
   "cell_type": "code",
   "execution_count": 13,
   "metadata": {},
   "outputs": [
    {
     "name": "stdout",
     "output_type": "stream",
     "text": [
      "13  13  13  13  "
     ]
    }
   ],
   "source": [
    "funcs = [lambda x:x+n for n in range(4)]\n",
    "for f in funcs:\n",
    "    print(f(10),end='  ')"
   ]
  },
  {
   "cell_type": "markdown",
   "metadata": {},
   "source": [
    "* 现在对其进行改进"
   ]
  },
  {
   "cell_type": "code",
   "execution_count": 16,
   "metadata": {},
   "outputs": [
    {
     "name": "stdout",
     "output_type": "stream",
     "text": [
      "10   11   12   13   "
     ]
    }
   ],
   "source": [
    "funcs = [lambda x,n=n:x+n for n in range(4)]\n",
    "for f in funcs:\n",
    "    print(f(10),end='   ')"
   ]
  },
  {
   "cell_type": "markdown",
   "metadata": {},
   "source": [
    "# 7.8减少可调用对象的参数个数\n",
    "* 问题：有一个可调用函数，其参数过多，调用时容易出错\n",
    "* 方案：使用functools.partial()。该函数允许你给一个或者多个参数设定固定的值，减少接下来被调用时的参数个数"
   ]
  },
  {
   "cell_type": "code",
   "execution_count": 17,
   "metadata": {},
   "outputs": [],
   "source": [
    "def spam(a, b, c, d):\n",
    "    print(a, b, c, d)"
   ]
  },
  {
   "cell_type": "code",
   "execution_count": 18,
   "metadata": {},
   "outputs": [
    {
     "name": "stdout",
     "output_type": "stream",
     "text": [
      "1 2 3 4\n"
     ]
    }
   ],
   "source": [
    "#使用partial（）来固定某些参数值\n",
    "from functools import partial\n",
    "s1 = partial(spam,1) #a=1\n",
    "s1(2,3,4)"
   ]
  },
  {
   "cell_type": "code",
   "execution_count": 19,
   "metadata": {},
   "outputs": [
    {
     "name": "stdout",
     "output_type": "stream",
     "text": [
      "1 3 4 5\n"
     ]
    }
   ],
   "source": [
    "s1(3,4,5)"
   ]
  },
  {
   "cell_type": "code",
   "execution_count": 22,
   "metadata": {},
   "outputs": [
    {
     "name": "stdout",
     "output_type": "stream",
     "text": [
      "1 2 3 10\n"
     ]
    }
   ],
   "source": [
    "s2 = partial(spam, d=10) # d = 10\n",
    "s2(1,2,3)"
   ]
  },
  {
   "cell_type": "code",
   "execution_count": 23,
   "metadata": {},
   "outputs": [
    {
     "name": "stdout",
     "output_type": "stream",
     "text": [
      "1 2 10 100\n"
     ]
    }
   ],
   "source": [
    "s3 = partial(spam, 1,2,d=100) # a=1,b=2,d=100\n",
    "s3(10)"
   ]
  },
  {
   "cell_type": "markdown",
   "metadata": {},
   "source": [
    "* 上述例子，partial()固定某些参数，并返回一个可调用的对象，该对象接收未赋值的参数，然后和之前固定的参数一起传入原始函数"
   ]
  },
  {
   "cell_type": "code",
   "execution_count": 38,
   "metadata": {},
   "outputs": [],
   "source": [
    "points = [(1,2),(3,4),(5,6),(7,8)]\n",
    "import math\n",
    "def distance(p1, p2):\n",
    "    x1,y1 = p1\n",
    "    x2,y2 = p2\n",
    "    return math.hypot(x2-x1,y2-y1)"
   ]
  },
  {
   "cell_type": "markdown",
   "metadata": {},
   "source": [
    "* 现在假设你想以某个点为基点，根据点和基点之间的距离来排序所有的这些点。列表的 sort() 方法接受一个关键字参数来自定义排序逻辑，但是它只能接受一个单个参数的函数 (distance() 很明显是不符合条件的)。现在我们可以通过使用 partial() 来解决这个问题："
   ]
  },
  {
   "cell_type": "code",
   "execution_count": 39,
   "metadata": {},
   "outputs": [],
   "source": [
    "pt = (4,3)\n",
    "points.sort(key=partial(distance,pt)) #固定p2=pt"
   ]
  },
  {
   "cell_type": "code",
   "execution_count": 40,
   "metadata": {},
   "outputs": [
    {
     "data": {
      "text/plain": [
       "[(3, 4), (1, 2), (5, 6), (7, 8)]"
      ]
     },
     "execution_count": 40,
     "metadata": {},
     "output_type": "execute_result"
    }
   ],
   "source": [
    "points"
   ]
  },
  {
   "cell_type": "code",
   "execution_count": 41,
   "metadata": {},
   "outputs": [],
   "source": [
    "d = partial(distance,pt)\n",
    "dis = [d(point) for point in points]"
   ]
  },
  {
   "cell_type": "code",
   "execution_count": 45,
   "metadata": {},
   "outputs": [
    {
     "data": {
      "text/plain": [
       "[1.4142135623730951, 3.1622776601683795, 3.1622776601683795, 5.830951894845301]"
      ]
     },
     "execution_count": 45,
     "metadata": {},
     "output_type": "execute_result"
    }
   ],
   "source": [
    "dis"
   ]
  },
  {
   "cell_type": "code",
   "execution_count": 47,
   "metadata": {},
   "outputs": [
    {
     "data": {
      "text/plain": [
       "[1.4142135623730951, 3.1622776601683795, 3.1622776601683795, 5.830951894845301]"
      ]
     },
     "execution_count": 47,
     "metadata": {},
     "output_type": "execute_result"
    }
   ],
   "source": [
    "dis.sort()\n",
    "dis"
   ]
  },
  {
   "cell_type": "markdown",
   "metadata": {},
   "source": [
    "* partial() 通常被用来微调其他库函数所使用的回调函数的参数。例如，下面是一段代码，使用 multiprocessing 来异步计算一个结果值，然后这个值被传递给一个接受一个 result 值和一个可选 logging 参数的回调函数："
   ]
  },
  {
   "cell_type": "code",
   "execution_count": null,
   "metadata": {},
   "outputs": [],
   "source": [
    "def output_result(result, log=None):\n",
    "    if log is not None:\n",
    "        log.debug('Got: %r',result)\n",
    "def add(x,y):\n",
    "    return x+y\n",
    "if __name__=='__main__':\n",
    "    import logging\n",
    "    from multiprocessing import Pool\n",
    "    from functools import partial\n",
    "    logging.basicConfig(level=logging.DEBUG)\n",
    "    log = logging.getLogger('test')\n",
    "    p = Pool()\n",
    "    p.apply_async(add,(3,4),callback=partial(output_result,log=log))\n",
    "    p.close()\n",
    "    p.join()"
   ]
  },
  {
   "cell_type": "markdown",
   "metadata": {},
   "source": [
    "# 7.9将简单的类转化为函数\n",
    "* 问题：有一个除了__init__()方法只定义了一个方法的类。为了简化代码将其转化为一个函数\n",
    "* 方案：可以使用闭包来将单个方法的类转化成函数"
   ]
  },
  {
   "cell_type": "code",
   "execution_count": null,
   "metadata": {},
   "outputs": [],
   "source": [
    "from urllib.request import urlopen\n",
    "class UrlTemplate:\n",
    "    def __init__(self,template):\n",
    "        self.template = template\n",
    "    def open(self, **kwargs):\n",
    "        return urlopen(self.template.format_map(kwargs))\n",
    "yahoo = UrlTemplate('http://finance.yahoo.com/d/quotes.csv?s={names}&f={fields}')\n",
    "for line in yahoo.open(names = 'IBM,AAPL,FB',fields = 'sl1c1v'):\n",
    "    print(line.decode('utf-8'))"
   ]
  },
  {
   "cell_type": "markdown",
   "metadata": {},
   "source": [
    "* 一个闭包就是\n",
    "一个函数，只不过在函数内部带上了一个额外的变量环境。闭包关键特点就是它会记\n",
    "住自己被定义时的环境。"
   ]
  },
  {
   "cell_type": "code",
   "execution_count": 4,
   "metadata": {},
   "outputs": [],
   "source": [
    "#上面的类可以用下面的函数代替\n",
    "def urltemplate(template):\n",
    "    def opener(**kwargs):\n",
    "        return urlopen(template.format_map(kwargs))\n",
    "    return opener"
   ]
  },
  {
   "cell_type": "markdown",
   "metadata": {},
   "source": [
    "# 7.10带额外状态信息的回调函数\n",
    "* 问题：你的代码中需要依赖到回调函数的使用 (比如事件处理器、等待后台任务完成后的\n",
    "回调等)，并且你还需要让回调函数拥有额外的状态值，以便在它的内部使用到\n",
    "* 方案：如下"
   ]
  },
  {
   "cell_type": "code",
   "execution_count": 5,
   "metadata": {},
   "outputs": [],
   "source": [
    "#该函数是一个需要调用回调函数的函数\n",
    "def apply_async(func, args, * ,callback):\n",
    "    result = func(*args)\n",
    "    callback(result)"
   ]
  },
  {
   "cell_type": "code",
   "execution_count": 6,
   "metadata": {},
   "outputs": [
    {
     "name": "stdout",
     "output_type": "stream",
     "text": [
      "Got:  5\n"
     ]
    }
   ],
   "source": [
    "def print_result(result):\n",
    "    print('Got: ',result)\n",
    "def add(x,y):\n",
    "    return x+y\n",
    "apply_async(add,(2,3),callback=print_result)"
   ]
  },
  {
   "cell_type": "markdown",
   "metadata": {},
   "source": [
    "* 下面的类会保存一个内部序列号，每次接收到一个result时，序列号加1"
   ]
  },
  {
   "cell_type": "code",
   "execution_count": 7,
   "metadata": {},
   "outputs": [],
   "source": [
    "class ResultHandler:\n",
    "    def __init__(self):\n",
    "        self.sequence = 0\n",
    "    def handler(self,result):\n",
    "        self.sequence += 1\n",
    "        print('[{}] Gpt: {}'.format(self.sequence,result))"
   ]
  },
  {
   "cell_type": "code",
   "execution_count": 8,
   "metadata": {},
   "outputs": [
    {
     "name": "stdout",
     "output_type": "stream",
     "text": [
      "[1] Gpt: helloworld\n"
     ]
    }
   ],
   "source": [
    "#使用这个类的时候，你先创建一个类的实例，然后用它的 handler() 绑定方法来做为回调函数：\n",
    "r = ResultHandler()\n",
    "apply_async(add,('hello','world'),callback=r.handler)"
   ]
  },
  {
   "cell_type": "code",
   "execution_count": 9,
   "metadata": {},
   "outputs": [
    {
     "name": "stdout",
     "output_type": "stream",
     "text": [
      "[2] Gpt: 3\n"
     ]
    }
   ],
   "source": [
    "apply_async(add,(1,2),callback=r.handler)"
   ]
  },
  {
   "cell_type": "code",
   "execution_count": 10,
   "metadata": {},
   "outputs": [
    {
     "name": "stdout",
     "output_type": "stream",
     "text": [
      "[3] Gpt: helworld\n"
     ]
    }
   ],
   "source": [
    "apply_async(add,('hel','world'),callback=r.handler)"
   ]
  },
  {
   "cell_type": "markdown",
   "metadata": {},
   "source": [
    "* 作为类的替代，也可以使用一个闭包来捕获状态值"
   ]
  },
  {
   "cell_type": "code",
   "execution_count": 11,
   "metadata": {},
   "outputs": [],
   "source": [
    "def make_handler():\n",
    "    sequence = 0\n",
    "    def handler(result):\n",
    "        nonlocal sequence\n",
    "        sequence += 1\n",
    "        print('[{}] Got: {}'.format(sequence,result))\n",
    "    return handler"
   ]
  },
  {
   "cell_type": "code",
   "execution_count": 12,
   "metadata": {},
   "outputs": [
    {
     "name": "stdout",
     "output_type": "stream",
     "text": [
      "[1] Got: 5\n"
     ]
    }
   ],
   "source": [
    "handler = make_handler()\n",
    "apply_async(add,(2,3),callback=handler)"
   ]
  },
  {
   "cell_type": "code",
   "execution_count": 13,
   "metadata": {},
   "outputs": [
    {
     "name": "stdout",
     "output_type": "stream",
     "text": [
      "[2] Got: 7\n"
     ]
    }
   ],
   "source": [
    "apply_async(add,(4,3),callback=handler)"
   ]
  },
  {
   "cell_type": "markdown",
   "metadata": {},
   "source": [
    "* 也可以使用更加高级的方法：协程"
   ]
  },
  {
   "cell_type": "code",
   "execution_count": 14,
   "metadata": {},
   "outputs": [
    {
     "name": "stdout",
     "output_type": "stream",
     "text": [
      "[1] Got: 30\n"
     ]
    }
   ],
   "source": [
    "def  make_handler():\n",
    "    sequence = 0\n",
    "    while True:\n",
    "        result = yield\n",
    "        sequence += 1\n",
    "        print('[{}] Got: {}'.format(sequence,result))\n",
    "#对于协程需要使用它的send()方法作为回调函数\n",
    "handler = make_handler()\n",
    "next(handler)\n",
    "apply_async(add,(10,20),callback=handler.send)"
   ]
  },
  {
   "cell_type": "code",
   "execution_count": 15,
   "metadata": {},
   "outputs": [
    {
     "name": "stdout",
     "output_type": "stream",
     "text": [
      "[2] Got: 120\n"
     ]
    }
   ],
   "source": [
    "apply_async(add,(100,20),callback=handler.send)"
   ]
  },
  {
   "cell_type": "markdown",
   "metadata": {},
   "source": [
    "# 7.11内联回调函数\n",
    "* 问题：当你编写使用回调函数的代码的时候，担心很多小函数的扩张可能会弄乱程序控\n",
    "制流。你希望找到某个方法来让代码看上去更像是一个普通的执行序列。\n",
    "* 方案：通过使用生成器和协程可以使得回调函数内联在某个函数中。"
   ]
  },
  {
   "cell_type": "code",
   "execution_count": 22,
   "metadata": {},
   "outputs": [],
   "source": [
    "def apply_async(func, args, *, callback):\n",
    "    result = func(*args)\n",
    "    callback(result)\n",
    "from queue import Queue\n",
    "from functools import wraps\n",
    "class Async:\n",
    "    def __init__(self, func,args):\n",
    "        self.func = func\n",
    "        self.args = args\n",
    "def inlined_async(func):\n",
    "    @wraps(func)\n",
    "    def wrapper(*args):\n",
    "        f = func(*args)\n",
    "        result_queue = Queue()\n",
    "        result_queue.put(None)\n",
    "        while True:\n",
    "            result = result_queue.get()\n",
    "            try:\n",
    "                a = f.send(result)\n",
    "                apply_async(a.func, a.args, callback=result_queue.put)\n",
    "            except StopIteration:\n",
    "                break\n",
    "    return wrapper\n",
    "    \n",
    "    \n",
    "def add(x, y):\n",
    "    return x+y\n",
    "\n",
    "@inlined_async\n",
    "def test():\n",
    "    r = yield Async(add,(2,3))\n",
    "    print(r)\n",
    "    r = yield Async(add,('hello','world'))\n",
    "    print(r)\n",
    "    for n in range(5):\n",
    "        r = yield Async(add,(n,n))\n",
    "        print(r)\n",
    "    print('goodbye')"
   ]
  },
  {
   "cell_type": "code",
   "execution_count": 23,
   "metadata": {},
   "outputs": [
    {
     "name": "stdout",
     "output_type": "stream",
     "text": [
      "5\n",
      "helloworld\n",
      "0\n",
      "2\n",
      "4\n",
      "6\n",
      "8\n",
      "goodbye\n"
     ]
    }
   ],
   "source": [
    "test()"
   ]
  },
  {
   "cell_type": "code",
   "execution_count": null,
   "metadata": {},
   "outputs": [],
   "source": [
    "if __name__ == \"__main__\":\n",
    "    import multiprocessing\n",
    "    pool = multiprocessing.Pool()\n",
    "    apply_async = pool.apply_async\n",
    "    test()"
   ]
  },
  {
   "cell_type": "markdown",
   "metadata": {},
   "source": [
    "# 7.12 访问闭包中定义的变量\n",
    "* 问题：想要扩展函数中的某个闭包，允许它能够访问和修改函数的内部变量\n",
    "* 方案：通常，闭包的内部变量对于外界是完全隐藏的，但是可以通过编写访问函数并将其作为函数的属性绑定到闭包上来实现这个目的"
   ]
  },
  {
   "cell_type": "code",
   "execution_count": 5,
   "metadata": {},
   "outputs": [],
   "source": [
    "def sample():\n",
    "    n = 0\n",
    "    #闭包函数\n",
    "    def func():\n",
    "        print('n= ',n)\n",
    "    #访问函数\n",
    "    def get_n():\n",
    "        return n\n",
    "    def set_n(value):\n",
    "        nonlocal n\n",
    "        n = value\n",
    "    \n",
    "    func.get_n = get_n\n",
    "    func.set_n = set_n\n",
    "    return func"
   ]
  },
  {
   "cell_type": "code",
   "execution_count": 6,
   "metadata": {},
   "outputs": [
    {
     "name": "stdout",
     "output_type": "stream",
     "text": [
      "n=  0\n"
     ]
    }
   ],
   "source": [
    "#使用\n",
    "f = sample()\n",
    "f()"
   ]
  },
  {
   "cell_type": "code",
   "execution_count": 7,
   "metadata": {},
   "outputs": [],
   "source": [
    "f.set_n(10)"
   ]
  },
  {
   "cell_type": "code",
   "execution_count": 8,
   "metadata": {},
   "outputs": [
    {
     "data": {
      "text/plain": [
       "10"
      ]
     },
     "execution_count": 8,
     "metadata": {},
     "output_type": "execute_result"
    }
   ],
   "source": [
    "f.get_n()"
   ]
  },
  {
   "cell_type": "markdown",
   "metadata": {},
   "source": [
    "* 进一步还可以让闭包来模拟类的实列"
   ]
  },
  {
   "cell_type": "code",
   "execution_count": 11,
   "metadata": {},
   "outputs": [],
   "source": [
    "import sys\n",
    "class ClosureInstance:\n",
    "    def __init__(self,locals=None):\n",
    "        if locals is None:\n",
    "            locals = sys._getframe(1).f_locals\n",
    "        self.__dict__.update((key,value) for key ,value in locals.items())\n",
    "    def __len__(self):\n",
    "        return self.__dict__['__len__']()\n",
    "def Stack():\n",
    "    items = []\n",
    "    def push(item):\n",
    "        items.append(item)\n",
    "    def pop():\n",
    "        return items.pop()\n",
    "    def __len__():\n",
    "        return len(items)\n",
    "    return ClosureInstance()"
   ]
  },
  {
   "cell_type": "code",
   "execution_count": 12,
   "metadata": {},
   "outputs": [
    {
     "data": {
      "text/plain": [
       "<__main__.ClosureInstance at 0x5934570>"
      ]
     },
     "execution_count": 12,
     "metadata": {},
     "output_type": "execute_result"
    }
   ],
   "source": [
    "#工作\n",
    "s = Stack()\n",
    "s"
   ]
  },
  {
   "cell_type": "code",
   "execution_count": 13,
   "metadata": {},
   "outputs": [
    {
     "data": {
      "text/plain": [
       "3"
      ]
     },
     "execution_count": 13,
     "metadata": {},
     "output_type": "execute_result"
    }
   ],
   "source": [
    "s.push(10)\n",
    "s.push(20)\n",
    "s.push('hello')\n",
    "len(s)"
   ]
  },
  {
   "cell_type": "code",
   "execution_count": 14,
   "metadata": {},
   "outputs": [
    {
     "data": {
      "text/plain": [
       "'hello'"
      ]
     },
     "execution_count": 14,
     "metadata": {},
     "output_type": "execute_result"
    }
   ],
   "source": [
    "s.pop()"
   ]
  },
  {
   "cell_type": "code",
   "execution_count": 15,
   "metadata": {},
   "outputs": [
    {
     "data": {
      "text/plain": [
       "20"
      ]
     },
     "execution_count": 15,
     "metadata": {},
     "output_type": "execute_result"
    }
   ],
   "source": [
    "s.pop()"
   ]
  }
 ],
 "metadata": {
  "kernelspec": {
   "display_name": "Python 3",
   "language": "python",
   "name": "python3"
  },
  "language_info": {
   "codemirror_mode": {
    "name": "ipython",
    "version": 3
   },
   "file_extension": ".py",
   "mimetype": "text/x-python",
   "name": "python",
   "nbconvert_exporter": "python",
   "pygments_lexer": "ipython3",
   "version": "3.6.4"
  }
 },
 "nbformat": 4,
 "nbformat_minor": 2
}
