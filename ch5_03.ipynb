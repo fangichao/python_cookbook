{
 "cells": [
  {
   "cell_type": "markdown",
   "metadata": {},
   "source": [
    "# 5.14 忽略文件名编码\n",
    "* 问题：想使用原始文件名执行文件的I/O操作，即文件名并不经过系统默认的编码去解码或者编码\n",
    "* 方案：使用一个原始字节串来指定文件名"
   ]
  },
  {
   "cell_type": "code",
   "execution_count": 2,
   "metadata": {},
   "outputs": [
    {
     "data": {
      "text/plain": [
       "'utf-8'"
      ]
     },
     "execution_count": 2,
     "metadata": {},
     "output_type": "execute_result"
    }
   ],
   "source": [
    "# 默认情况，所有的文件名都会根据sys.getfilesystemencoding()返回的文本编码来解码或者编码\n",
    "import sys\n",
    "sys.getfilesystemencoding()"
   ]
  },
  {
   "cell_type": "code",
   "execution_count": 4,
   "metadata": {},
   "outputs": [],
   "source": [
    "with open('data_file/jalape\\xf1o.txt','w') as f:\n",
    "    f.write('Spicy!')"
   ]
  },
  {
   "cell_type": "code",
   "execution_count": 14,
   "metadata": {},
   "outputs": [
    {
     "data": {
      "text/plain": [
       "['.ipynb_checkpoints',\n",
       " 'ch2_3_test',\n",
       " 'ch4_02.txt',\n",
       " 'ch5_1.txt',\n",
       " 'ch5_2.txt',\n",
       " 'ch5_3.txt',\n",
       " 'ch5_4.bin',\n",
       " 'data',\n",
       " 'data.bin',\n",
       " 'data2.gz',\n",
       " 'jalapeño.txt',\n",
       " 'somefile.txt',\n",
       " 'test1.json',\n",
       " 'test1_3.txt',\n",
       " 'test5_09.bin',\n",
       " 'test5_9.bin']"
      ]
     },
     "execution_count": 14,
     "metadata": {},
     "output_type": "execute_result"
    }
   ],
   "source": [
    "import os\n",
    "os.listdir('data_file/.')"
   ]
  },
  {
   "cell_type": "markdown",
   "metadata": {},
   "source": [
    "# 5.15 打印不合法的文件名\n",
    "* 问题：打开文件时出现UnicodeEncodeError和surrogates not allowed\n",
    "* 方案：见下"
   ]
  },
  {
   "cell_type": "code",
   "execution_count": null,
   "metadata": {},
   "outputs": [],
   "source": [
    "def bad_filename(filename):\n",
    "    return repr(filename)[1:-1]\n",
    "try:\n",
    "    print(filename)\n",
    "except UnicodeEncodeError:\n",
    "    print(bad_filename(filename))"
   ]
  },
  {
   "cell_type": "markdown",
   "metadata": {},
   "source": [
    "* 也可以通过下面的方式解决，它重新进行了编码"
   ]
  },
  {
   "cell_type": "code",
   "execution_count": 15,
   "metadata": {},
   "outputs": [],
   "source": [
    "def  bad_filename(filename):\n",
    "    temp = filename.encode(sys.getfilesystemencoding(),errors = 'surrogateescape')\n",
    "    return temp.dedcode('latin-1')\n"
   ]
  },
  {
   "cell_type": "markdown",
   "metadata": {},
   "source": [
    "# 5.16增加或者改变以及那个打开的编码\n",
    "* 问题：如何在不关闭已经打开的文件前提下，增加或者改变它的Unicode编码\n",
    "* 方案：如果想要给一个二进制打开的文件添加Unicode编码/解码，可以使用io.TextIOWrapper()对象包装它。"
   ]
  },
  {
   "cell_type": "code",
   "execution_count": 18,
   "metadata": {},
   "outputs": [],
   "source": [
    "import urllib.request\n",
    "import io\n",
    "u = urllib.request.urlopen('http://www.python.org')\n",
    "f = io.TextIOWrapper(u,encoding='utf-8')\n",
    "text = f.read()"
   ]
  },
  {
   "cell_type": "code",
   "execution_count": 20,
   "metadata": {},
   "outputs": [
    {
     "data": {
      "text/plain": [
       "'<!doctype html>\\n<!--[if lt IE 7]>   <html class=\"n'"
      ]
     },
     "execution_count": 20,
     "metadata": {},
     "output_type": "execute_result"
    }
   ],
   "source": [
    "text[0:50]"
   ]
  },
  {
   "cell_type": "markdown",
   "metadata": {},
   "source": [
    "* 如果你想修改一个已经打开的文本模式的文件的编码方式，可以使用detach()方法移除已经存在的文本编码层，并使用新的编码方式"
   ]
  },
  {
   "cell_type": "code",
   "execution_count": 21,
   "metadata": {},
   "outputs": [
    {
     "data": {
      "text/plain": [
       "'UTF-8'"
      ]
     },
     "execution_count": 21,
     "metadata": {},
     "output_type": "execute_result"
    }
   ],
   "source": [
    "import sys\n",
    "sys.stdout.encoding"
   ]
  },
  {
   "cell_type": "code",
   "execution_count": 23,
   "metadata": {},
   "outputs": [
    {
     "ename": "UnsupportedOperation",
     "evalue": "detach",
     "output_type": "error",
     "traceback": [
      "\u001b[1;31m---------------------------------------------------------------------------\u001b[0m",
      "\u001b[1;31mUnsupportedOperation\u001b[0m                      Traceback (most recent call last)",
      "\u001b[1;32m<ipython-input-23-5eefd3a15c4e>\u001b[0m in \u001b[0;36m<module>\u001b[1;34m()\u001b[0m\n\u001b[1;32m----> 1\u001b[1;33m \u001b[0msys\u001b[0m\u001b[1;33m.\u001b[0m\u001b[0mstdout\u001b[0m \u001b[1;33m=\u001b[0m \u001b[0mio\u001b[0m\u001b[1;33m.\u001b[0m\u001b[0mTextIOWrapper\u001b[0m\u001b[1;33m(\u001b[0m\u001b[0msys\u001b[0m\u001b[1;33m.\u001b[0m\u001b[0mstdout\u001b[0m\u001b[1;33m.\u001b[0m\u001b[0mdetach\u001b[0m\u001b[1;33m(\u001b[0m\u001b[1;33m)\u001b[0m\u001b[1;33m,\u001b[0m\u001b[0mencoding\u001b[0m\u001b[1;33m=\u001b[0m\u001b[1;34m'latin-1'\u001b[0m\u001b[1;33m)\u001b[0m\u001b[1;33m\u001b[0m\u001b[0m\n\u001b[0m\u001b[0;32m      2\u001b[0m \u001b[0msys\u001b[0m\u001b[1;33m.\u001b[0m\u001b[0mstdout\u001b[0m\u001b[1;33m.\u001b[0m\u001b[0mencoding\u001b[0m\u001b[1;33m(\u001b[0m\u001b[1;33m)\u001b[0m\u001b[1;33m\u001b[0m\u001b[0m\n\u001b[0;32m      3\u001b[0m \u001b[1;31m# 未成功\u001b[0m\u001b[1;33m\u001b[0m\u001b[1;33m\u001b[0m\u001b[0m\n",
      "\u001b[1;31mUnsupportedOperation\u001b[0m: detach"
     ]
    }
   ],
   "source": [
    "sys.stdout = io.TextIOWrapper(sys.stdout.detach(),encoding='latin-1')\n",
    "sys.stdout.encoding()\n",
    "# 未成功"
   ]
  },
  {
   "cell_type": "markdown",
   "metadata": {},
   "source": [
    "* I/O 系统由一系列的层次构建而成"
   ]
  },
  {
   "cell_type": "code",
   "execution_count": 25,
   "metadata": {},
   "outputs": [
    {
     "data": {
      "text/plain": [
       "<_io.TextIOWrapper name='data_file/sample.txt' mode='w' encoding='utf-8'>"
      ]
     },
     "execution_count": 25,
     "metadata": {},
     "output_type": "execute_result"
    }
   ],
   "source": [
    "f = open('data_file/sample.txt','w',encoding='utf-8')\n",
    "f"
   ]
  },
  {
   "cell_type": "code",
   "execution_count": 26,
   "metadata": {},
   "outputs": [
    {
     "data": {
      "text/plain": [
       "<_io.BufferedWriter name='data_file/sample.txt'>"
      ]
     },
     "execution_count": 26,
     "metadata": {},
     "output_type": "execute_result"
    }
   ],
   "source": [
    "f.buffer"
   ]
  },
  {
   "cell_type": "code",
   "execution_count": 27,
   "metadata": {},
   "outputs": [
    {
     "data": {
      "text/plain": [
       "<_io.FileIO name='data_file/sample.txt' mode='wb' closefd=True>"
      ]
     },
     "execution_count": 27,
     "metadata": {},
     "output_type": "execute_result"
    }
   ],
   "source": [
    "f.buffer.raw"
   ]
  },
  {
   "cell_type": "markdown",
   "metadata": {},
   "source": [
    "* io.TextIOWrapper 是一个编码和解码 Unicode 的文本处理层， io.BufferedWriter 是一个处理二进制数据的带缓冲的 I/O 层， io.FileIO 是一个表示操作系统底层文件描述符的原始文件。增加或改变文本编码会涉及增加或改变最上面的io.TextIOWrapper 层。"
   ]
  },
  {
   "cell_type": "markdown",
   "metadata": {},
   "source": [
    "# 5.17 将字节写入文本文件\n",
    "* 问题：想在文本模式打开的文件中写入原始的字节数据\n",
    "* 方案：将字节数据写入缓冲区即可\n",
    "* 注意：本节内容正好和书上的相反，书上第一个失败，第二个成功"
   ]
  },
  {
   "cell_type": "code",
   "execution_count": 30,
   "metadata": {},
   "outputs": [
    {
     "name": "stdout",
     "output_type": "stream",
     "text": [
      "hello\n"
     ]
    }
   ],
   "source": [
    "import sys\n",
    "sys.stdout.write(b'hello\\n')"
   ]
  },
  {
   "cell_type": "code",
   "execution_count": 31,
   "metadata": {},
   "outputs": [
    {
     "ename": "AttributeError",
     "evalue": "'OutStream' object has no attribute 'buffer'",
     "output_type": "error",
     "traceback": [
      "\u001b[1;31m---------------------------------------------------------------------------\u001b[0m",
      "\u001b[1;31mAttributeError\u001b[0m                            Traceback (most recent call last)",
      "\u001b[1;32m<ipython-input-31-7716b18a2f15>\u001b[0m in \u001b[0;36m<module>\u001b[1;34m()\u001b[0m\n\u001b[1;32m----> 1\u001b[1;33m \u001b[0msys\u001b[0m\u001b[1;33m.\u001b[0m\u001b[0mstdout\u001b[0m\u001b[1;33m.\u001b[0m\u001b[0mbuffer\u001b[0m\u001b[1;33m.\u001b[0m\u001b[0mwrite\u001b[0m\u001b[1;33m(\u001b[0m\u001b[1;34mb'hello\\n'\u001b[0m\u001b[1;33m)\u001b[0m\u001b[1;33m\u001b[0m\u001b[0m\n\u001b[0m",
      "\u001b[1;31mAttributeError\u001b[0m: 'OutStream' object has no attribute 'buffer'"
     ]
    }
   ],
   "source": [
    "sys.stdout.buffer.write(b'hello\\n')"
   ]
  },
  {
   "cell_type": "markdown",
   "metadata": {},
   "source": [
    "# 5.18将文件描述符包装成文件对象\n",
    "* 问题：有一个对应于操作系统上的已经打开的I/O通道的整型文件描述符，将它包装成一个更高层次的python文件对象\n",
    "* 方案：使用open()函数传入一个参数\n",
    "* 注意：一个文件描述符和一个打开的普通文件是不一样的。文件描述符仅仅是一个由操作系统指定的整数，用来指代某个系统的 I/O 通道"
   ]
  },
  {
   "cell_type": "code",
   "execution_count": 32,
   "metadata": {},
   "outputs": [],
   "source": [
    "import os \n",
    "fd = os.open('data_file/somefile.txt',os.O_WRONLY|os.O_CREAT)\n",
    "f = open(fd,'wt')\n",
    "f.write('hello world \\n')\n",
    "f.close()"
   ]
  },
  {
   "cell_type": "markdown",
   "metadata": {},
   "source": [
    "* 当高层的文件对象被关闭或者破坏的时候，底层的文件描述符也被关闭，可以通过设置closefd=Flase."
   ]
  },
  {
   "cell_type": "code",
   "execution_count": 39,
   "metadata": {},
   "outputs": [],
   "source": [
    "import os \n",
    "fd = os.open('data_file/somefile.txt',os.O_WRONLY|os.O_CREAT)\n",
    "f = open(fd,'wt',closefd=False)\n",
    "pass"
   ]
  },
  {
   "cell_type": "markdown",
   "metadata": {},
   "source": [
    "# 5.19 创建临时文件和文件夹\n",
    "* 问题：创建一个临时的文件或者目录，使用完后可以自动的销毁\n",
    "* 方案：使用tempfile模块\n",
    "* 提示：TemporaryFile() 的第一个参数是文件模式，通常来讲文本模式使用 w+t ，二进制模式使用 w+b 。这个模式同时支持读和写操作"
   ]
  },
  {
   "cell_type": "code",
   "execution_count": 41,
   "metadata": {},
   "outputs": [],
   "source": [
    "from tempfile import TemporaryFile\n",
    "with TemporaryFile('w+t') as f:\n",
    "    f.write('hello world \\n')\n",
    "    f.write('testing\\n')\n",
    "    f.seek(0)\n",
    "    data = f.read()"
   ]
  },
  {
   "cell_type": "code",
   "execution_count": 42,
   "metadata": {},
   "outputs": [
    {
     "data": {
      "text/plain": [
       "'hello world \\ntesting\\n'"
      ]
     },
     "execution_count": 42,
     "metadata": {},
     "output_type": "execute_result"
    }
   ],
   "source": [
    "data"
   ]
  },
  {
   "cell_type": "markdown",
   "metadata": {},
   "source": [
    "* TemporaryFile() 还支持同open()函数一样的参数"
   ]
  },
  {
   "cell_type": "code",
   "execution_count": 45,
   "metadata": {},
   "outputs": [],
   "source": [
    "from tempfile import TemporaryFile\n",
    "with TemporaryFile('w+t',encoding='utf-8') as f:\n",
    "    pass"
   ]
  },
  {
   "cell_type": "markdown",
   "metadata": {},
   "source": [
    "* 通过TemporaryFile创建的文件是匿名的，甚至连目录都没有，可以使用NamedTemporaryFile()\n",
    "* 同样结果文件在被关闭后会自动删除，如果不想这样做，可以传入一个参数delete=False"
   ]
  },
  {
   "cell_type": "code",
   "execution_count": 50,
   "metadata": {},
   "outputs": [
    {
     "name": "stdout",
     "output_type": "stream",
     "text": [
      "filename is :  C:\\Users\\方立超\\AppData\\Local\\Temp\\tmpqqexlim2\n"
     ]
    }
   ],
   "source": [
    "from tempfile import NamedTemporaryFile\n",
    "with NamedTemporaryFile('w+t') as f:\n",
    "    print('filename is : ',f.name)"
   ]
  },
  {
   "cell_type": "markdown",
   "metadata": {},
   "source": [
    "* 为了创建一个目录，可以使用tempfile.TemporaryDirectory()"
   ]
  },
  {
   "cell_type": "code",
   "execution_count": 51,
   "metadata": {},
   "outputs": [
    {
     "name": "stdout",
     "output_type": "stream",
     "text": [
      "dirname is  C:\\Users\\方立超\\AppData\\Local\\Temp\\tmpyfaribyy\n"
     ]
    }
   ],
   "source": [
    "from tempfile import TemporaryDirectory\n",
    "with TemporaryDirectory() as dirname:\n",
    "    print('dirname is ',dirname)"
   ]
  },
  {
   "cell_type": "markdown",
   "metadata": {},
   "source": [
    "# 5.20与串行端口的通信\n",
    "* 问题：想通过串口进行读写数据\n",
    "* 方案：选择使用pySerial包"
   ]
  },
  {
   "cell_type": "code",
   "execution_count": null,
   "metadata": {},
   "outputs": [],
   "source": [
    "import serial\n",
    "ser = serial.Serial('1',#device name varies\n",
    "                    baudrate=9600,\n",
    "                    bytesize = 8,\n",
    "                    parity = 'N',\n",
    "                    stopbits = 1\n",
    "                   )\n",
    "ser.write(b'G1 X50 Y50\\r\\n')\n",
    "ser.readline()"
   ]
  },
  {
   "cell_type": "markdown",
   "metadata": {},
   "source": [
    "# 5.21序列化Python对象\n",
    "* 问题：需要将一个Python对象序列化为一个字节流，以便将它保存到一个文件、存储到数据库或者网络传输\n",
    "* 方案：使用pickle模块"
   ]
  },
  {
   "cell_type": "code",
   "execution_count": 3,
   "metadata": {},
   "outputs": [],
   "source": [
    "import pickle\n",
    "data = 'afasfa'\n",
    "f = open('data_file/test5_21','wb')\n",
    "pickle.dump(data,f)"
   ]
  },
  {
   "cell_type": "markdown",
   "metadata": {},
   "source": [
    "* 为了将一个对象转化为一个字符串，可以使用pickle.dump()"
   ]
  },
  {
   "cell_type": "code",
   "execution_count": 4,
   "metadata": {},
   "outputs": [],
   "source": [
    "s = pickle.dumps(data)"
   ]
  },
  {
   "cell_type": "code",
   "execution_count": 5,
   "metadata": {},
   "outputs": [
    {
     "data": {
      "text/plain": [
       "b'\\x80\\x03X\\x06\\x00\\x00\\x00afasfaq\\x00.'"
      ]
     },
     "execution_count": 5,
     "metadata": {},
     "output_type": "execute_result"
    }
   ],
   "source": [
    "s"
   ]
  },
  {
   "cell_type": "markdown",
   "metadata": {},
   "source": [
    "* 为了从字节流中恢复一个对象，使用pickle.load()或者pickle.loads()"
   ]
  },
  {
   "cell_type": "code",
   "execution_count": 6,
   "metadata": {},
   "outputs": [],
   "source": [
    "f = open('data_file/test5_21','rb')\n",
    "data = pickle.load(f)"
   ]
  },
  {
   "cell_type": "code",
   "execution_count": 7,
   "metadata": {},
   "outputs": [
    {
     "data": {
      "text/plain": [
       "'afasfa'"
      ]
     },
     "execution_count": 7,
     "metadata": {},
     "output_type": "execute_result"
    }
   ],
   "source": [
    "data"
   ]
  },
  {
   "cell_type": "code",
   "execution_count": 8,
   "metadata": {},
   "outputs": [
    {
     "data": {
      "text/plain": [
       "b'\\x80\\x03X\\x06\\x00\\x00\\x00afasfaq\\x00.'"
      ]
     },
     "execution_count": 8,
     "metadata": {},
     "output_type": "execute_result"
    }
   ],
   "source": [
    "data = pickle.loads(s)\n",
    "s"
   ]
  },
  {
   "cell_type": "markdown",
   "metadata": {},
   "source": [
    "* pickle 是一种 Python 特有的自描述的数据编码。通过自描述，被序列化后的数据包含每个对象开始和结束以及它的类型信息。"
   ]
  },
  {
   "cell_type": "code",
   "execution_count": 10,
   "metadata": {},
   "outputs": [],
   "source": [
    "import pickle\n",
    "f = open('data_file/somedata','wb')\n",
    "pickle.dump([1,2,3,4],f)\n",
    "pickle.dump('hello',f)\n",
    "pickle.dump({'apple','pear','banana'},f)\n",
    "f.close()"
   ]
  },
  {
   "cell_type": "code",
   "execution_count": 11,
   "metadata": {},
   "outputs": [
    {
     "data": {
      "text/plain": [
       "[1, 2, 3, 4]"
      ]
     },
     "execution_count": 11,
     "metadata": {},
     "output_type": "execute_result"
    }
   ],
   "source": [
    "f = open('data_file/somedata','rb')\n",
    "pickle.load(f)"
   ]
  },
  {
   "cell_type": "code",
   "execution_count": 12,
   "metadata": {},
   "outputs": [
    {
     "data": {
      "text/plain": [
       "'hello'"
      ]
     },
     "execution_count": 12,
     "metadata": {},
     "output_type": "execute_result"
    }
   ],
   "source": [
    "pickle.load(f)"
   ]
  },
  {
   "cell_type": "markdown",
   "metadata": {},
   "source": [
    "* 此外可以序列化函数，类，接口，但是结果数据仅仅将它们的名称编码成对应的代码对象\n",
    "* 千万不要对不信任的数据使用 pickle.load().\n",
    "* 一定要保证 pickle 只在相互之间可以认证对方的解析器的内部使用"
   ]
  },
  {
   "cell_type": "code",
   "execution_count": 13,
   "metadata": {},
   "outputs": [
    {
     "data": {
      "text/plain": [
       "b'\\x80\\x03cmath\\ncos\\nq\\x00.'"
      ]
     },
     "execution_count": 13,
     "metadata": {},
     "output_type": "execute_result"
    }
   ],
   "source": [
    "import math\n",
    "import pickle\n",
    "pickle.dumps(math.cos)"
   ]
  },
  {
   "cell_type": "markdown",
   "metadata": {},
   "source": [
    "* 有些类型的对象是不能被序列化的。这些通常是那些依赖外部系统状态的对象，比如打开的文件，网络连接，线程，进程，栈帧等等用户自定义类可以通过提供\\_\\_getstate\\_\\_() 和 \\_\\_setstate\\_\\_() 方法来绕过这些限制。如果定义了这两个方法，pickle.dump() 就会调用 \\_\\_getstate\\_\\_() 获取序列化的对象。类似的，\\_\\_setstate\\_\\_()在反序列化时被调用。"
   ]
  },
  {
   "cell_type": "code",
   "execution_count": 33,
   "metadata": {},
   "outputs": [],
   "source": [
    "import time\n",
    "import threading\n",
    "import pickle\n",
    "class Countdown:\n",
    "    def __init__(self,n):\n",
    "        self.n = n\n",
    "        self.thr = threading.Thread(target = self.run)\n",
    "        self.thr.daemon = True\n",
    "        self.thr.start()\n",
    "    \n",
    "    def run(self):\n",
    "        while self.n>0:\n",
    "            print('T-minus',self.n)\n",
    "            self.n -= 1\n",
    "            time.sleep(3)\n",
    "            \n",
    "    def __getstate__(self):\n",
    "        return self.n\n",
    "    \n",
    "    def __setstate__(self,n):\n",
    "        self.__init__(n)"
   ]
  },
  {
   "cell_type": "code",
   "execution_count": 34,
   "metadata": {},
   "outputs": [
    {
     "name": "stdout",
     "output_type": "stream",
     "text": [
      "T-minus 10\n",
      "T-minus 9\n",
      "T-minus 8\n"
     ]
    }
   ],
   "source": [
    "c = Countdown(10)\n"
   ]
  },
  {
   "cell_type": "code",
   "execution_count": 35,
   "metadata": {},
   "outputs": [
    {
     "name": "stdout",
     "output_type": "stream",
     "text": [
      "T-minus 7\n"
     ]
    }
   ],
   "source": [
    "f = open('data_file/cstate.p','wb')\n",
    "pickle.dump(c,f)\n",
    "f.close()"
   ]
  },
  {
   "cell_type": "code",
   "execution_count": 36,
   "metadata": {},
   "outputs": [
    {
     "name": "stdout",
     "output_type": "stream",
     "text": [
      "T-minus"
     ]
    },
    {
     "data": {
      "text/plain": [
       "<__main__.Countdown at 0x595a470>"
      ]
     },
     "execution_count": 36,
     "metadata": {},
     "output_type": "execute_result"
    },
    {
     "name": "stdout",
     "output_type": "stream",
     "text": [
      " 7\n",
      "T-minus 6\n",
      "T-minus 6\n",
      "T-minus 5\n",
      "T-minus 5\n",
      "T-minus 4\n",
      "T-minus 4\n",
      "T-minus 3\n",
      "T-minus 3\n",
      "T-minus 2\n",
      "T-minus 2\n",
      "T-minus 1\n",
      "T-minus 1\n"
     ]
    }
   ],
   "source": [
    "f = open('data_file/cstate.p','rb')\n",
    "pickle.load(f)\n"
   ]
  }
 ],
 "metadata": {
  "kernelspec": {
   "display_name": "Python 3",
   "language": "python",
   "name": "python3"
  },
  "language_info": {
   "codemirror_mode": {
    "name": "ipython",
    "version": 3
   },
   "file_extension": ".py",
   "mimetype": "text/x-python",
   "name": "python",
   "nbconvert_exporter": "python",
   "pygments_lexer": "ipython3",
   "version": "3.6.4"
  }
 },
 "nbformat": 4,
 "nbformat_minor": 2
}
