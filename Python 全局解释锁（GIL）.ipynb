{
 "cells": [
  {
   "cell_type": "markdown",
   "metadata": {},
   "source": [
    "# 1、开启线程\n",
    "* 开启线程有两种方式："
   ]
  },
  {
   "cell_type": "code",
   "execution_count": 1,
   "metadata": {},
   "outputs": [
    {
     "name": "stdout",
     "output_type": "stream",
     "text": [
      "主线程\n"
     ]
    }
   ],
   "source": [
    "'''方式一'''\n",
    "from threading import Thread\n",
    "import time\n",
    "def sayhi(name):\n",
    "    time.sleep(2)\n",
    "    print(\"{} say hello\".format(name))\n",
    "t = Thread(target=sayhi,args=(\"Lily\",))\n",
    "t.start()\n",
    "print(\"主线程\")"
   ]
  },
  {
   "cell_type": "code",
   "execution_count": 2,
   "metadata": {},
   "outputs": [
    {
     "name": "stdout",
     "output_type": "stream",
     "text": [
      "主线程\n"
     ]
    }
   ],
   "source": [
    "'''方式二'''\n",
    "from threading import Thread\n",
    "import time\n",
    "class sayhi(Thread):\n",
    "    def __init__(self,name):\n",
    "        super().__init__()\n",
    "        self.name = name\n",
    "    def run(self):\n",
    "        time.sleep(2)\n",
    "        print(\"{} say hello\".format(self.name))\n",
    "t = sayhi(\"LIly\")\n",
    "t.start()\n",
    "print(\"主线程\")"
   ]
  },
  {
   "cell_type": "markdown",
   "metadata": {},
   "source": [
    "# 2、在一个进程下开启多个线程和在一个进程下开启多个子进程的区别"
   ]
  },
  {
   "cell_type": "code",
   "execution_count": 3,
   "metadata": {},
   "outputs": [
    {
     "name": "stdout",
     "output_type": "stream",
     "text": [
      "hello主线程/主进程\n",
      "\n"
     ]
    }
   ],
   "source": [
    "from threading import Thread\n",
    "from multiprocessing import Process\n",
    "import os\n",
    "def work():\n",
    "    print(\"hello\")\n",
    "    \n",
    "'''在主进程下开启线程'''\n",
    "t = Thread(target=work)\n",
    "t.start()\n",
    "print(\"主线程/主进程\")"
   ]
  },
  {
   "cell_type": "code",
   "execution_count": 4,
   "metadata": {},
   "outputs": [
    {
     "name": "stdout",
     "output_type": "stream",
     "text": [
      "子进程/主进程\n"
     ]
    }
   ],
   "source": [
    "'''在主进程下开启子进程'''\n",
    "t = Process(target=work)\n",
    "t.start()\n",
    "print(\"子进程/主进程\")"
   ]
  },
  {
   "cell_type": "markdown",
   "metadata": {},
   "source": [
    "* 获取进程/线程ID"
   ]
  },
  {
   "cell_type": "code",
   "execution_count": 15,
   "metadata": {},
   "outputs": [
    {
     "name": "stdout",
     "output_type": "stream",
     "text": [
      "hello  492\n",
      "hello 主线程/主进程pid   492\n",
      " 492\n",
      "主线程/主进程pid 492\n"
     ]
    }
   ],
   "source": [
    "import os\n",
    "def work():\n",
    "    print('hello ',os.getpid())\n",
    "if __name__ == \"__main__\":\n",
    "    #part1:在主进程下开启多个线程,每个线程都跟主进程的pid一样\n",
    "    t1 = Thread(target=work)\n",
    "    t2 = Thread(target=work)\n",
    "    t1.start()\n",
    "    t2.start()\n",
    "    print(\"主线程/主进程pid  \", os.getpid())\n",
    "    \n",
    "    #part2:开多个进程,每个进程都有不同的pid\n",
    "    p1=Process(target=work)\n",
    "    p2=Process(target=work)\n",
    "    p1.start()\n",
    "    p2.start()\n",
    "    print('主线程/主进程pid',os.getpid())"
   ]
  },
  {
   "cell_type": "markdown",
   "metadata": {},
   "source": [
    "* 上面的代码输出结果一直在改变，为什么？"
   ]
  },
  {
   "cell_type": "markdown",
   "metadata": {},
   "source": [
    "* 同一进程内的线程共享该进程的数据"
   ]
  },
  {
   "cell_type": "code",
   "execution_count": 18,
   "metadata": {},
   "outputs": [
    {
     "name": "stdout",
     "output_type": "stream",
     "text": [
      "主  100\n",
      "主  0\n"
     ]
    }
   ],
   "source": [
    "def work():\n",
    "    global n\n",
    "    n = 0\n",
    "if __name__ == \"__main__\":\n",
    "    n = 100\n",
    "    p = Process(target=work)\n",
    "    p.start()\n",
    "    p.join()\n",
    "    print(\"主 \", n)\n",
    "    \n",
    "    n = 1\n",
    "    t = Thread(target=work)\n",
    "    t.start()\n",
    "    t.join()\n",
    "    print(\"主 \", n)"
   ]
  },
  {
   "cell_type": "markdown",
   "metadata": {},
   "source": [
    "# 练习"
   ]
  },
  {
   "cell_type": "code",
   "execution_count": 6,
   "metadata": {},
   "outputs": [
    {
     "name": "stdout",
     "output_type": "stream",
     "text": [
      ">>>: dadadqddqd\n",
      ">>>: "
     ]
    },
    {
     "name": "stderr",
     "output_type": "stream",
     "text": [
      "Exception in thread Thread-15:\n",
      "Traceback (most recent call last):\n",
      "  File \"d:\\program filles\\python\\lib\\threading.py\", line 916, in _bootstrap_inner\n",
      "    self.run()\n",
      "  File \"d:\\program filles\\python\\lib\\threading.py\", line 864, in run\n",
      "    self._target(*self._args, **self._kwargs)\n",
      "  File \"<ipython-input-6-cc24d95ccf48>\", line 6, in talk\n",
      "    msg = input(\">>>: \").strip()\n",
      "EOFError: EOF when reading a line\n",
      "\n",
      "Exception in thread Thread-8:\n",
      "Traceback (most recent call last):\n",
      "  File \"d:\\program filles\\python\\lib\\threading.py\", line 916, in _bootstrap_inner\n",
      "    self.run()\n",
      "  File \"d:\\program filles\\python\\lib\\threading.py\", line 864, in run\n",
      "    self._target(*self._args, **self._kwargs)\n",
      "  File \"<ipython-input-3-2ddcd49ab86a>\", line 21, in save\n",
      "    res = format_1.pop()\n",
      "IndexError: pop from empty list\n",
      "\n"
     ]
    }
   ],
   "source": [
    "from threading import Thread\n",
    "msg_1 = []\n",
    "format_1 = []\n",
    "def talk():\n",
    "    while True:\n",
    "        msg = input(\">>>: \").strip()\n",
    "        if not msg:\n",
    "            continue\n",
    "        msg_1.append(msg)\n",
    "        \n",
    "def format_msg():\n",
    "    while True:\n",
    "        if msg_1:\n",
    "            res = msg_1.pop()\n",
    "            format_1.append(res.upper())\n",
    "            \n",
    "def save():\n",
    "    while True:\n",
    "        if format_1:\n",
    "            with open('db.txt','a',encoding=\"utf-8\") as f:\n",
    "                res = format_1.pop()\n",
    "                f.write(\"%s\\n\"%res)\n",
    "\n",
    "if __name__ == \"__main__\":\n",
    "    t1 = Thread(target=talk)\n",
    "    t2 = Thread(target=format_msg)\n",
    "    t3 = Thread(target=save)\n",
    "    t1.start()\n",
    "    t2.start()\n",
    "    t3.start()"
   ]
  },
  {
   "cell_type": "code",
   "execution_count": null,
   "metadata": {},
   "outputs": [],
   "source": []
  },
  {
   "cell_type": "code",
   "execution_count": null,
   "metadata": {},
   "outputs": [],
   "source": []
  },
  {
   "cell_type": "code",
   "execution_count": null,
   "metadata": {},
   "outputs": [],
   "source": []
  },
  {
   "cell_type": "code",
   "execution_count": null,
   "metadata": {},
   "outputs": [],
   "source": []
  },
  {
   "cell_type": "code",
   "execution_count": null,
   "metadata": {},
   "outputs": [],
   "source": []
  },
  {
   "cell_type": "code",
   "execution_count": null,
   "metadata": {},
   "outputs": [],
   "source": []
  },
  {
   "cell_type": "code",
   "execution_count": null,
   "metadata": {},
   "outputs": [],
   "source": []
  },
  {
   "cell_type": "code",
   "execution_count": null,
   "metadata": {},
   "outputs": [],
   "source": []
  },
  {
   "cell_type": "code",
   "execution_count": null,
   "metadata": {},
   "outputs": [],
   "source": []
  },
  {
   "cell_type": "code",
   "execution_count": null,
   "metadata": {},
   "outputs": [],
   "source": []
  },
  {
   "cell_type": "code",
   "execution_count": null,
   "metadata": {},
   "outputs": [],
   "source": []
  }
 ],
 "metadata": {
  "kernelspec": {
   "display_name": "Python 3",
   "language": "python",
   "name": "python3"
  },
  "language_info": {
   "codemirror_mode": {
    "name": "ipython",
    "version": 3
   },
   "file_extension": ".py",
   "mimetype": "text/x-python",
   "name": "python",
   "nbconvert_exporter": "python",
   "pygments_lexer": "ipython3",
   "version": "3.6.4"
  }
 },
 "nbformat": 4,
 "nbformat_minor": 2
}
