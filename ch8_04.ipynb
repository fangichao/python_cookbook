{
 "cells": [
  {
   "cell_type": "markdown",
   "metadata": {},
   "source": [
    "# 8.16在类中定义多个构造器\n",
    "* 问题：实现一个类，但是想要使用\\_\\_init\\_\\_（）以外的初始化方式\n",
    "* 方案：为了实现多个构造器，需要使用类方法"
   ]
  },
  {
   "cell_type": "code",
   "execution_count": 1,
   "metadata": {},
   "outputs": [],
   "source": [
    "import time\n",
    "class Data:\n",
    "    '''使用类方法'''\n",
    "    def __init__(self, year, month, day):\n",
    "        self.year = year\n",
    "        self.month = month\n",
    "        self.day = day\n",
    "    \n",
    "    @classmethod\n",
    "    def today(cls):\n",
    "        t = time.localtime()\n",
    "        return cls(t.tm_year, t.tm_mon, t.tm_mday)"
   ]
  },
  {
   "cell_type": "code",
   "execution_count": 2,
   "metadata": {},
   "outputs": [],
   "source": [
    "a = Data(2012,12,15)\n",
    "b = Data.today()"
   ]
  },
  {
   "cell_type": "markdown",
   "metadata": {},
   "source": [
    "* 类方法的一个主要用途是定义多个构造器，他接受一个class作为第一个参数（cls）。在继承时也很好"
   ]
  },
  {
   "cell_type": "code",
   "execution_count": 6,
   "metadata": {},
   "outputs": [],
   "source": [
    "class NewData(Data):\n",
    "    pass"
   ]
  },
  {
   "cell_type": "code",
   "execution_count": 7,
   "metadata": {},
   "outputs": [],
   "source": [
    "c = Data.today()\n",
    "d = NewData.today()"
   ]
  },
  {
   "cell_type": "markdown",
   "metadata": {},
   "source": [
    "# 8.17创建不调用init方法的实例\n",
    "* 问题：想要创建一个实例，但是不想用init方法\n",
    "* 方案：可以使用\\_\\_new\\_\\_()方法创建一个未初始化的实例"
   ]
  },
  {
   "cell_type": "code",
   "execution_count": 8,
   "metadata": {},
   "outputs": [
    {
     "data": {
      "text/plain": [
       "<__main__.Data at 0x6184890>"
      ]
     },
     "execution_count": 8,
     "metadata": {},
     "output_type": "execute_result"
    }
   ],
   "source": [
    "class Data:\n",
    "    def __init__(self, year, month, day):\n",
    "        self.year = year\n",
    "        self.month = month\n",
    "        self.day = day\n",
    "# 下面演示如何不调用__init__()来创建实例\n",
    "d = Data.__new__(Data)\n",
    "d"
   ]
  },
  {
   "cell_type": "code",
   "execution_count": 9,
   "metadata": {},
   "outputs": [
    {
     "ename": "AttributeError",
     "evalue": "'Data' object has no attribute 'year'",
     "output_type": "error",
     "traceback": [
      "\u001b[1;31m---------------------------------------------------------------------------\u001b[0m",
      "\u001b[1;31mAttributeError\u001b[0m                            Traceback (most recent call last)",
      "\u001b[1;32m<ipython-input-9-7b2b8d967cb9>\u001b[0m in \u001b[0;36m<module>\u001b[1;34m()\u001b[0m\n\u001b[1;32m----> 1\u001b[1;33m \u001b[0md\u001b[0m\u001b[1;33m.\u001b[0m\u001b[0myear\u001b[0m\u001b[1;33m\u001b[0m\u001b[0m\n\u001b[0m",
      "\u001b[1;31mAttributeError\u001b[0m: 'Data' object has no attribute 'year'"
     ]
    }
   ],
   "source": [
    "d.year"
   ]
  },
  {
   "cell_type": "code",
   "execution_count": 11,
   "metadata": {},
   "outputs": [],
   "source": [
    "# 可以看到Data的实例还没有year属性，需要手动初始化\n",
    "data = {'year':2018,'month':10,'day':31}\n",
    "for key,value in data.items():\n",
    "    setattr(d,key,value)"
   ]
  },
  {
   "cell_type": "code",
   "execution_count": 12,
   "metadata": {},
   "outputs": [
    {
     "data": {
      "text/plain": [
       "2018"
      ]
     },
     "execution_count": 12,
     "metadata": {},
     "output_type": "execute_result"
    }
   ],
   "source": [
    "d.year"
   ]
  },
  {
   "cell_type": "code",
   "execution_count": 13,
   "metadata": {},
   "outputs": [
    {
     "data": {
      "text/plain": [
       "10"
      ]
     },
     "execution_count": 13,
     "metadata": {},
     "output_type": "execute_result"
    }
   ],
   "source": [
    "d.month"
   ]
  },
  {
   "cell_type": "markdown",
   "metadata": {},
   "source": [
    "* 注：（自己的理解）类在创建一个实例的时候会首先使用new创建对象,然后使用init初始化对象。如果使用new跳过init，则仅仅是创建了对象，需要手动初始化属性\n",
    "* 当我们在反序列对象或者实现某个类方法构造函数时需要绕过init方法来创建对象，有时候可能会像下面那样定义一个新的构造函数："
   ]
  },
  {
   "cell_type": "code",
   "execution_count": 15,
   "metadata": {},
   "outputs": [],
   "source": [
    "from time import localtime\n",
    "class Date:\n",
    "    def __init__(self,year,month,day):\n",
    "        self.year = year\n",
    "        self.month = month\n",
    "        self.day = day\n",
    "    @classmethod\n",
    "    def today(cls):\n",
    "        d = cls.__new__(cls)\n",
    "        t = localtime()\n",
    "        d.year = t.tm_year\n",
    "        d.month = t.tm_month\n",
    "        d.day = t.tm_day\n",
    "        return d"
   ]
  },
  {
   "cell_type": "markdown",
   "metadata": {},
   "source": [
    "# 8.18使用Mixins扩展功能\n",
    "* 问题：有很多有用的方法，想使用他们来扩展其他的类，但是它们之间没有任何继承关系\n",
    "* 方案：通常当你想自定义类的时候会碰上这些问题。可能是某个库提供了一些基础类，你\n",
    "可以利用它们来构造你自己的类。\n",
    "假设你想扩展映射对象，给它们添加日志、唯一性设置、类型检查等等功能。下面\n",
    "是一些混入类"
   ]
  },
  {
   "cell_type": "code",
   "execution_count": 21,
   "metadata": {},
   "outputs": [],
   "source": [
    "class LoggedMappingMixin:\n",
    "    '''add logging to get/set/delete operations debugging'''\n",
    "    __slots__=()# 混入类都没有实例变量，因为直接实例化混入类没有任何意义\n",
    "    def __getitem__(self, key):\n",
    "        print(\"Getting \" + str(key))\n",
    "        return super().__getitem__(key)\n",
    "    def __setitem__(self,key,value):\n",
    "        print(\"Setting {} as {!r} \" .format(key, value))\n",
    "        return super().__setitem__(key,value)\n",
    "    def __delitem__(self, key):\n",
    "        print(\"Deleting \" + str(key))\n",
    "        return super().__delitem__(key)\n",
    "\n",
    "class SetOnceMappingMixin:\n",
    "    '''Only allow a key to be set once'''\n",
    "    __slots__ = ()\n",
    "    def __setitem__(self,key,value):\n",
    "        if key in self:\n",
    "            raise KeyError(str(key) + ' already set')\n",
    "        return super().__setitem__(key, value)\n",
    "\n",
    "class StringKeysMappingMixin:\n",
    "    '''restrict keys to strings only'''\n",
    "    __slots__ = ()\n",
    "    def __setitem__(self,key, value):\n",
    "        if not isinstance(key, str):\n",
    "            raise TypeError(\"key must be a string\")\n",
    "        return super().__setitem__(key,value)"
   ]
  },
  {
   "cell_type": "markdown",
   "metadata": {},
   "source": [
    "* 上述的类单独使用起来没有任何意义，事实上实例化任何一个类都会产生异常。它们是用来通过多继承来和其他的映射对象混入使用的"
   ]
  },
  {
   "cell_type": "code",
   "execution_count": 22,
   "metadata": {},
   "outputs": [
    {
     "name": "stdout",
     "output_type": "stream",
     "text": [
      "Setting x as 23 \n",
      "Getting x\n",
      "23\n"
     ]
    }
   ],
   "source": [
    "class LoggedDict(LoggedMappingMixin, dict):\n",
    "    pass\n",
    "\n",
    "d = LoggedDict()\n",
    "d['x'] = 23\n",
    "print(d['x'])"
   ]
  },
  {
   "cell_type": "code",
   "execution_count": 23,
   "metadata": {},
   "outputs": [
    {
     "name": "stdout",
     "output_type": "stream",
     "text": [
      "Deleting x\n",
      "Getting x\n"
     ]
    },
    {
     "ename": "KeyError",
     "evalue": "'x'",
     "output_type": "error",
     "traceback": [
      "\u001b[1;31m---------------------------------------------------------------------------\u001b[0m",
      "\u001b[1;31mKeyError\u001b[0m                                  Traceback (most recent call last)",
      "\u001b[1;32m<ipython-input-23-7c22f0ebded3>\u001b[0m in \u001b[0;36m<module>\u001b[1;34m()\u001b[0m\n\u001b[0;32m      1\u001b[0m \u001b[1;32mdel\u001b[0m \u001b[0md\u001b[0m\u001b[1;33m[\u001b[0m\u001b[1;34m'x'\u001b[0m\u001b[1;33m]\u001b[0m\u001b[1;33m\u001b[0m\u001b[0m\n\u001b[1;32m----> 2\u001b[1;33m \u001b[0mprint\u001b[0m\u001b[1;33m(\u001b[0m\u001b[0md\u001b[0m\u001b[1;33m[\u001b[0m\u001b[1;34m'x'\u001b[0m\u001b[1;33m]\u001b[0m\u001b[1;33m)\u001b[0m\u001b[1;33m\u001b[0m\u001b[0m\n\u001b[0m",
      "\u001b[1;32m<ipython-input-21-de7104437910>\u001b[0m in \u001b[0;36m__getitem__\u001b[1;34m(self, key)\u001b[0m\n\u001b[0;32m      4\u001b[0m     \u001b[1;32mdef\u001b[0m \u001b[0m__getitem__\u001b[0m\u001b[1;33m(\u001b[0m\u001b[0mself\u001b[0m\u001b[1;33m,\u001b[0m \u001b[0mkey\u001b[0m\u001b[1;33m)\u001b[0m\u001b[1;33m:\u001b[0m\u001b[1;33m\u001b[0m\u001b[0m\n\u001b[0;32m      5\u001b[0m         \u001b[0mprint\u001b[0m\u001b[1;33m(\u001b[0m\u001b[1;34m\"Getting \"\u001b[0m \u001b[1;33m+\u001b[0m \u001b[0mstr\u001b[0m\u001b[1;33m(\u001b[0m\u001b[0mkey\u001b[0m\u001b[1;33m)\u001b[0m\u001b[1;33m)\u001b[0m\u001b[1;33m\u001b[0m\u001b[0m\n\u001b[1;32m----> 6\u001b[1;33m         \u001b[1;32mreturn\u001b[0m \u001b[0msuper\u001b[0m\u001b[1;33m(\u001b[0m\u001b[1;33m)\u001b[0m\u001b[1;33m.\u001b[0m\u001b[0m__getitem__\u001b[0m\u001b[1;33m(\u001b[0m\u001b[0mkey\u001b[0m\u001b[1;33m)\u001b[0m\u001b[1;33m\u001b[0m\u001b[0m\n\u001b[0m\u001b[0;32m      7\u001b[0m     \u001b[1;32mdef\u001b[0m \u001b[0m__setitem__\u001b[0m\u001b[1;33m(\u001b[0m\u001b[0mself\u001b[0m\u001b[1;33m,\u001b[0m\u001b[0mkey\u001b[0m\u001b[1;33m,\u001b[0m\u001b[0mvalue\u001b[0m\u001b[1;33m)\u001b[0m\u001b[1;33m:\u001b[0m\u001b[1;33m\u001b[0m\u001b[0m\n\u001b[0;32m      8\u001b[0m         \u001b[0mprint\u001b[0m\u001b[1;33m(\u001b[0m\u001b[1;34m\"Setting {} as {!r} \"\u001b[0m \u001b[1;33m.\u001b[0m\u001b[0mformat\u001b[0m\u001b[1;33m(\u001b[0m\u001b[0mkey\u001b[0m\u001b[1;33m,\u001b[0m \u001b[0mvalue\u001b[0m\u001b[1;33m)\u001b[0m\u001b[1;33m)\u001b[0m\u001b[1;33m\u001b[0m\u001b[0m\n",
      "\u001b[1;31mKeyError\u001b[0m: 'x'"
     ]
    }
   ],
   "source": [
    "del d['x']\n",
    "print(d['x'])"
   ]
  },
  {
   "cell_type": "code",
   "execution_count": 24,
   "metadata": {},
   "outputs": [],
   "source": [
    "from collections import defaultdict\n",
    "class SetOnceDefaultDict(SetOnceMappingMixin,defaultdict):\n",
    "    pass\n",
    "d = SetOnceDefaultDict(list)\n",
    "d['x'].append(2)\n",
    "d['x'].append(3)"
   ]
  },
  {
   "cell_type": "code",
   "execution_count": 25,
   "metadata": {},
   "outputs": [
    {
     "ename": "KeyError",
     "evalue": "'x already set'",
     "output_type": "error",
     "traceback": [
      "\u001b[1;31m---------------------------------------------------------------------------\u001b[0m",
      "\u001b[1;31mKeyError\u001b[0m                                  Traceback (most recent call last)",
      "\u001b[1;32m<ipython-input-25-5a621a0169ad>\u001b[0m in \u001b[0;36m<module>\u001b[1;34m()\u001b[0m\n\u001b[1;32m----> 1\u001b[1;33m \u001b[0md\u001b[0m\u001b[1;33m[\u001b[0m\u001b[1;34m'x'\u001b[0m\u001b[1;33m]\u001b[0m \u001b[1;33m=\u001b[0m \u001b[1;36m223\u001b[0m\u001b[1;33m\u001b[0m\u001b[0m\n\u001b[0m",
      "\u001b[1;32m<ipython-input-21-de7104437910>\u001b[0m in \u001b[0;36m__setitem__\u001b[1;34m(self, key, value)\u001b[0m\n\u001b[0;32m     17\u001b[0m     \u001b[1;32mdef\u001b[0m \u001b[0m__setitem__\u001b[0m\u001b[1;33m(\u001b[0m\u001b[0mself\u001b[0m\u001b[1;33m,\u001b[0m\u001b[0mkey\u001b[0m\u001b[1;33m,\u001b[0m\u001b[0mvalue\u001b[0m\u001b[1;33m)\u001b[0m\u001b[1;33m:\u001b[0m\u001b[1;33m\u001b[0m\u001b[0m\n\u001b[0;32m     18\u001b[0m         \u001b[1;32mif\u001b[0m \u001b[0mkey\u001b[0m \u001b[1;32min\u001b[0m \u001b[0mself\u001b[0m\u001b[1;33m:\u001b[0m\u001b[1;33m\u001b[0m\u001b[0m\n\u001b[1;32m---> 19\u001b[1;33m             \u001b[1;32mraise\u001b[0m \u001b[0mKeyError\u001b[0m\u001b[1;33m(\u001b[0m\u001b[0mstr\u001b[0m\u001b[1;33m(\u001b[0m\u001b[0mkey\u001b[0m\u001b[1;33m)\u001b[0m \u001b[1;33m+\u001b[0m \u001b[1;34m' already set'\u001b[0m\u001b[1;33m)\u001b[0m\u001b[1;33m\u001b[0m\u001b[0m\n\u001b[0m\u001b[0;32m     20\u001b[0m         \u001b[1;32mreturn\u001b[0m \u001b[0msuper\u001b[0m\u001b[1;33m(\u001b[0m\u001b[1;33m)\u001b[0m\u001b[1;33m.\u001b[0m\u001b[0m__setitem__\u001b[0m\u001b[1;33m(\u001b[0m\u001b[0mkey\u001b[0m\u001b[1;33m,\u001b[0m \u001b[0mvalue\u001b[0m\u001b[1;33m)\u001b[0m\u001b[1;33m\u001b[0m\u001b[0m\n\u001b[0;32m     21\u001b[0m \u001b[1;33m\u001b[0m\u001b[0m\n",
      "\u001b[1;31mKeyError\u001b[0m: 'x already set'"
     ]
    }
   ],
   "source": [
    "d['x'] = 223"
   ]
  },
  {
   "cell_type": "markdown",
   "metadata": {},
   "source": [
    "* 混入类在很多大型标准库中用到，用于扩展功能。下面的代码简单的实现了一个多线程的XML_RPC服务"
   ]
  },
  {
   "cell_type": "code",
   "execution_count": 28,
   "metadata": {},
   "outputs": [],
   "source": [
    "from xmlrpc.server import SimpleXMLRPCServer\n",
    "from socketserver import ThreadingMixIn\n",
    "class ThreadedXMLRPCServer(ThreadingMixIn, SimpleXMLRPCServer):\n",
    "    pass"
   ]
  },
  {
   "cell_type": "markdown",
   "metadata": {},
   "source": [
    "* 注意：混入类不能直接实例化对象；其次，混入类没有自己的状态信息，也就是说它们没有定义初始化init方法，并没有实例属性"
   ]
  },
  {
   "cell_type": "markdown",
   "metadata": {},
   "source": [
    "* 还有一种实现混入类的方式是使用类装饰器"
   ]
  },
  {
   "cell_type": "code",
   "execution_count": 29,
   "metadata": {},
   "outputs": [],
   "source": [
    "def LoggedMapping(cls):\n",
    "    '''使用类装饰器'''\n",
    "    cls_getitem = cls.__getitem__\n",
    "    cls_setitem = cls.__setitem__\n",
    "    cls_delitem = cls.__delitem__\n",
    "    def __getitem__(self, key):\n",
    "        print(\"Getting \" + str(key))\n",
    "        return cls_getitem(self,key)\n",
    "    \n",
    "    def __setitem__(self,key,value):\n",
    "        print(\"Setting {} as {}\".format(key,value))\n",
    "        return cls_setitem(self,key,value)\n",
    "    \n",
    "    def __delitem__(self,key):\n",
    "        print(\"Deleting \" + str(key))\n",
    "        return cls_delitem(self,key)\n",
    "    \n",
    "    cls.__getitem__ = __getitem__\n",
    "    cls.__setitem__ = __setitem__\n",
    "    cls.__delitem__ = __delitem__\n",
    "    return cls\n",
    "@LoggedMapping\n",
    "class LoggedDict(dict):\n",
    "    pass"
   ]
  },
  {
   "cell_type": "code",
   "execution_count": 30,
   "metadata": {},
   "outputs": [
    {
     "name": "stdout",
     "output_type": "stream",
     "text": [
      "Setting y as 20\n"
     ]
    }
   ],
   "source": [
    "d = LoggedDict()\n",
    "d['y'] = 20"
   ]
  },
  {
   "cell_type": "code",
   "execution_count": 31,
   "metadata": {},
   "outputs": [
    {
     "name": "stdout",
     "output_type": "stream",
     "text": [
      "Getting y\n"
     ]
    },
    {
     "data": {
      "text/plain": [
       "20"
      ]
     },
     "execution_count": 31,
     "metadata": {},
     "output_type": "execute_result"
    }
   ],
   "source": [
    "d['y']"
   ]
  },
  {
   "cell_type": "markdown",
   "metadata": {},
   "source": [
    "# 8.19实现状态对象或者状态机\n",
    "* 问题：想要实现一个状态机或者在不同状态下执行操作的对象，但不想在代码中添加太多的条件判断语句\n",
    "* 方案：为每一个状态定义一个对象"
   ]
  },
  {
   "cell_type": "code",
   "execution_count": 37,
   "metadata": {},
   "outputs": [],
   "source": [
    "class Connection:\n",
    "    '''普通方法'''\n",
    "    def __init__(self):\n",
    "        self.state = \"CLOSED\"\n",
    "    def read(self):\n",
    "        if self.state != \"OPEN\":\n",
    "            raise RuntimeError('Not open')\n",
    "        print(\"reading...\")\n",
    "    def write(self,data):\n",
    "        if self.state != \"OPEN\":\n",
    "            raise RuntimeError(\"Not open\")\n",
    "        print(\"writing...\")\n",
    "    def open(self):\n",
    "        if self.state != \"OPEN\":\n",
    "            raise RuntimeError(\"Already open\")\n",
    "        self.state = \"OPEN\"\n",
    "    \n",
    "    def close(self):\n",
    "        if self.state != \"CLOSED\":\n",
    "            raise RuntimeError(\"Already open\")\n",
    "        self.state = \"CLOSED\"\n",
    "\n",
    "        '''上述方法太过复杂'''"
   ]
  },
  {
   "cell_type": "markdown",
   "metadata": {},
   "source": [
    "* 一种比较好的方法是为每个状态定义一个对象"
   ]
  },
  {
   "cell_type": "code",
   "execution_count": 52,
   "metadata": {},
   "outputs": [],
   "source": [
    "class Connection1:\n",
    "    def __init__(self):\n",
    "        self.new_state(ClosedConnectionState)\n",
    "    def new_state(self, newstate):\n",
    "        self._state = newstate\n",
    "    def read(self):\n",
    "        return self._state.read(self)\n",
    "    def write(self,data):\n",
    "        return self._state.write(self,data)\n",
    "    def open(self):\n",
    "        return self._state.open(self)\n",
    "    def close(self):\n",
    "        return self._state.close(self)\n",
    "\n",
    "    \n",
    "class ConnectionState:\n",
    "    '''链接状态基类'''\n",
    "    @staticmethod\n",
    "    def read(conn):\n",
    "        raise NotImplementedError()\n",
    "        \n",
    "    @staticmethod\n",
    "    def write(conn, data):\n",
    "        raise NotImplementedError()\n",
    "        \n",
    "    @staticmethod\n",
    "    def open(conn):\n",
    "        raise NotImplementedError()\n",
    "        \n",
    "    @staticmethod\n",
    "    def close(conn):\n",
    "        raise NotImplementedError()\n",
    "        \n",
    "\n",
    "class ClosedConnectionState(ConnectionState):\n",
    "    '''应用'''\n",
    "    @staticmethod\n",
    "    def read(conn):\n",
    "        raise RuntimeError('not open')\n",
    "        \n",
    "    @staticmethod\n",
    "    def write(conn, data):\n",
    "        raise RuntimeError('not open')\n",
    "        \n",
    "    @staticmethod\n",
    "    def open(conn):\n",
    "        conn.new_state(OpenConnectionState)\n",
    "    \n",
    "    @staticmethod\n",
    "    def close(conn):\n",
    "        raise RuntimeError('Already closed')\n",
    "\n",
    "class OpenConnectionState(ConnectionState):\n",
    "    @staticmethod\n",
    "    def read(conn):\n",
    "        print(\"reading...\")\n",
    "    \n",
    "    @staticmethod\n",
    "    def write(conn, data):\n",
    "        print(\"writing...\")\n",
    "    \n",
    "    @staticmethod\n",
    "    def open(conn):\n",
    "        raise RuntimeError(\"Already open\")\n",
    "    \n",
    "    @staticmethod\n",
    "    def close(conn):\n",
    "        conn.new_state(ClosedConnectionState)"
   ]
  },
  {
   "cell_type": "code",
   "execution_count": 53,
   "metadata": {},
   "outputs": [
    {
     "data": {
      "text/plain": [
       "__main__.ClosedConnectionState"
      ]
     },
     "execution_count": 53,
     "metadata": {},
     "output_type": "execute_result"
    }
   ],
   "source": [
    "c = Connection1()\n",
    "c._state"
   ]
  },
  {
   "cell_type": "code",
   "execution_count": 54,
   "metadata": {},
   "outputs": [
    {
     "ename": "RuntimeError",
     "evalue": "not open",
     "output_type": "error",
     "traceback": [
      "\u001b[1;31m---------------------------------------------------------------------------\u001b[0m",
      "\u001b[1;31mRuntimeError\u001b[0m                              Traceback (most recent call last)",
      "\u001b[1;32m<ipython-input-54-aaae037ddc31>\u001b[0m in \u001b[0;36m<module>\u001b[1;34m()\u001b[0m\n\u001b[1;32m----> 1\u001b[1;33m \u001b[0mc\u001b[0m\u001b[1;33m.\u001b[0m\u001b[0mread\u001b[0m\u001b[1;33m(\u001b[0m\u001b[1;33m)\u001b[0m\u001b[1;33m\u001b[0m\u001b[0m\n\u001b[0m",
      "\u001b[1;32m<ipython-input-52-4f7086e0893d>\u001b[0m in \u001b[0;36mread\u001b[1;34m(self)\u001b[0m\n\u001b[0;32m      5\u001b[0m         \u001b[0mself\u001b[0m\u001b[1;33m.\u001b[0m\u001b[0m_state\u001b[0m \u001b[1;33m=\u001b[0m \u001b[0mnewstate\u001b[0m\u001b[1;33m\u001b[0m\u001b[0m\n\u001b[0;32m      6\u001b[0m     \u001b[1;32mdef\u001b[0m \u001b[0mread\u001b[0m\u001b[1;33m(\u001b[0m\u001b[0mself\u001b[0m\u001b[1;33m)\u001b[0m\u001b[1;33m:\u001b[0m\u001b[1;33m\u001b[0m\u001b[0m\n\u001b[1;32m----> 7\u001b[1;33m         \u001b[1;32mreturn\u001b[0m \u001b[0mself\u001b[0m\u001b[1;33m.\u001b[0m\u001b[0m_state\u001b[0m\u001b[1;33m.\u001b[0m\u001b[0mread\u001b[0m\u001b[1;33m(\u001b[0m\u001b[0mself\u001b[0m\u001b[1;33m)\u001b[0m\u001b[1;33m\u001b[0m\u001b[0m\n\u001b[0m\u001b[0;32m      8\u001b[0m     \u001b[1;32mdef\u001b[0m \u001b[0mwrite\u001b[0m\u001b[1;33m(\u001b[0m\u001b[0mself\u001b[0m\u001b[1;33m,\u001b[0m\u001b[0mdata\u001b[0m\u001b[1;33m)\u001b[0m\u001b[1;33m:\u001b[0m\u001b[1;33m\u001b[0m\u001b[0m\n\u001b[0;32m      9\u001b[0m         \u001b[1;32mreturn\u001b[0m \u001b[0mself\u001b[0m\u001b[1;33m.\u001b[0m\u001b[0m_state\u001b[0m\u001b[1;33m.\u001b[0m\u001b[0mwrite\u001b[0m\u001b[1;33m(\u001b[0m\u001b[0mself\u001b[0m\u001b[1;33m,\u001b[0m\u001b[0mdata\u001b[0m\u001b[1;33m)\u001b[0m\u001b[1;33m\u001b[0m\u001b[0m\n",
      "\u001b[1;32m<ipython-input-52-4f7086e0893d>\u001b[0m in \u001b[0;36mread\u001b[1;34m(conn)\u001b[0m\n\u001b[0;32m     37\u001b[0m     \u001b[1;33m@\u001b[0m\u001b[0mstaticmethod\u001b[0m\u001b[1;33m\u001b[0m\u001b[0m\n\u001b[0;32m     38\u001b[0m     \u001b[1;32mdef\u001b[0m \u001b[0mread\u001b[0m\u001b[1;33m(\u001b[0m\u001b[0mconn\u001b[0m\u001b[1;33m)\u001b[0m\u001b[1;33m:\u001b[0m\u001b[1;33m\u001b[0m\u001b[0m\n\u001b[1;32m---> 39\u001b[1;33m         \u001b[1;32mraise\u001b[0m \u001b[0mRuntimeError\u001b[0m\u001b[1;33m(\u001b[0m\u001b[1;34m'not open'\u001b[0m\u001b[1;33m)\u001b[0m\u001b[1;33m\u001b[0m\u001b[0m\n\u001b[0m\u001b[0;32m     40\u001b[0m \u001b[1;33m\u001b[0m\u001b[0m\n\u001b[0;32m     41\u001b[0m     \u001b[1;33m@\u001b[0m\u001b[0mstaticmethod\u001b[0m\u001b[1;33m\u001b[0m\u001b[0m\n",
      "\u001b[1;31mRuntimeError\u001b[0m: not open"
     ]
    }
   ],
   "source": [
    "c.read()"
   ]
  },
  {
   "cell_type": "code",
   "execution_count": 55,
   "metadata": {},
   "outputs": [
    {
     "data": {
      "text/plain": [
       "__main__.OpenConnectionState"
      ]
     },
     "execution_count": 55,
     "metadata": {},
     "output_type": "execute_result"
    }
   ],
   "source": [
    "c.open()\n",
    "c._state"
   ]
  },
  {
   "cell_type": "code",
   "execution_count": 56,
   "metadata": {},
   "outputs": [
    {
     "name": "stdout",
     "output_type": "stream",
     "text": [
      "reading...\n"
     ]
    }
   ],
   "source": [
    "c.read()"
   ]
  },
  {
   "cell_type": "code",
   "execution_count": 58,
   "metadata": {},
   "outputs": [
    {
     "name": "stdout",
     "output_type": "stream",
     "text": [
      "writing...\n"
     ]
    }
   ],
   "source": [
    "c.write('hello')"
   ]
  },
  {
   "cell_type": "code",
   "execution_count": 59,
   "metadata": {},
   "outputs": [
    {
     "data": {
      "text/plain": [
       "__main__.ClosedConnectionState"
      ]
     },
     "execution_count": 59,
     "metadata": {},
     "output_type": "execute_result"
    }
   ],
   "source": [
    "c.close()\n",
    "c._state"
   ]
  },
  {
   "cell_type": "markdown",
   "metadata": {},
   "source": [
    "# 8.20通过字符串调用对象方法\n",
    "* 问题：有一个字符窜形式的方法名称，想通过它调用某个对象的对应方法\n",
    "* 方案：使用getattr()"
   ]
  },
  {
   "cell_type": "code",
   "execution_count": 80,
   "metadata": {},
   "outputs": [],
   "source": [
    "import math\n",
    "class Point:\n",
    "    def __init__(self, x, y):\n",
    "        self.x = x\n",
    "        self.y = y\n",
    "    def __repr__(self):\n",
    "        return 'Point({!r:},{!r:})'.format(self.x, self.y)\n",
    "    def distance(self,x,y):\n",
    "        return math.hypot(self.x - x, self.y - y)\n",
    "    def Out(self):\n",
    "        print(\"point({},{})\".format(self.x,self.y))"
   ]
  },
  {
   "cell_type": "code",
   "execution_count": 81,
   "metadata": {},
   "outputs": [
    {
     "data": {
      "text/plain": [
       "3.6055512754639896"
      ]
     },
     "execution_count": 81,
     "metadata": {},
     "output_type": "execute_result"
    }
   ],
   "source": [
    "p = Point(2,3)\n",
    "d = getattr(p,'distance')(0,0)   # 调用p.ditance(0,0)\n",
    "d"
   ]
  },
  {
   "cell_type": "markdown",
   "metadata": {},
   "source": [
    "* 另外一种调用方式是使用operator.methodcaller()"
   ]
  },
  {
   "cell_type": "code",
   "execution_count": 82,
   "metadata": {},
   "outputs": [
    {
     "data": {
      "text/plain": [
       "3.6055512754639896"
      ]
     },
     "execution_count": 82,
     "metadata": {},
     "output_type": "execute_result"
    }
   ],
   "source": [
    "import operator\n",
    "operator.methodcaller('distance',0,0)(p)"
   ]
  },
  {
   "cell_type": "code",
   "execution_count": 83,
   "metadata": {},
   "outputs": [
    {
     "name": "stdout",
     "output_type": "stream",
     "text": [
      "point(2,3)\n"
     ]
    }
   ],
   "source": [
    "p = getattr(p,'Out')()"
   ]
  },
  {
   "cell_type": "markdown",
   "metadata": {},
   "source": [
    "* 当需要通过相同的参数多次调用某个方法时，使用operator。methodcaller就很方便"
   ]
  },
  {
   "cell_type": "code",
   "execution_count": 90,
   "metadata": {},
   "outputs": [],
   "source": [
    "points = [\n",
    "    Point(2,1),Point(2,5),Point(-2,-1),Point(5,-3),Point(4,4)\n",
    "]\n",
    "points.sort(key=operator.methodcaller('distance',0,0))"
   ]
  },
  {
   "cell_type": "code",
   "execution_count": 91,
   "metadata": {},
   "outputs": [
    {
     "data": {
      "text/plain": [
       "[Point(2,1), Point(-2,-1), Point(2,5), Point(4,4), Point(5,-3)]"
      ]
     },
     "execution_count": 91,
     "metadata": {},
     "output_type": "execute_result"
    }
   ],
   "source": [
    "points"
   ]
  }
 ],
 "metadata": {
  "kernelspec": {
   "display_name": "Python 3",
   "language": "python",
   "name": "python3"
  },
  "language_info": {
   "codemirror_mode": {
    "name": "ipython",
    "version": 3
   },
   "file_extension": ".py",
   "mimetype": "text/x-python",
   "name": "python",
   "nbconvert_exporter": "python",
   "pygments_lexer": "ipython3",
   "version": "3.6.4"
  }
 },
 "nbformat": 4,
 "nbformat_minor": 2
}
