{
 "cells": [
  {
   "cell_type": "markdown",
   "metadata": {},
   "source": [
    "# 首先总结一下：\n",
    "* 在无序表或者有序表上的顺序搜索，其时间复杂度为O(n)；\n",
    "* 在有序表上进行二分查找，在最差情况下，复杂度为O(log n)；\n",
    "* 散列表可以实现常数级时间的搜索；\n",
    "* 冒泡排序、选择排序和插入排序是O(n2)的算法；\n",
    "* 希尔排序在插入排序的基础上进行了改进，采用对递增子表排序的方法，其时间复杂度可以在O(n)和O(n^2)之间；\n",
    "* 归并排序的时间复杂度是O(nlog n)，但归并的过程需要额外存储空间；\n",
    "* 快速排序的时间复杂度是O(nlog n),但如果分割点偏离列表中心的话，最坏情况下会退化到O(n^2)。快速排序不需要额外的存储空间。"
   ]
  },
  {
   "cell_type": "markdown",
   "metadata": {},
   "source": [
    "# 搜索"
   ]
  },
  {
   "cell_type": "markdown",
   "metadata": {},
   "source": [
    "## 顺序搜索\n",
    "#### 列表是无序的\n",
    "* 按照顺序依次遍历，直到找到要寻找的目标值\n",
    "* Code1函数接受两个参数，一个为列表，另一个为待寻找的目标值，如果找到了则返回True，否则返回False\n",
    "* 顺序搜索的复杂度为O(n),n为列表的长度"
   ]
  },
  {
   "cell_type": "code",
   "execution_count": 1,
   "metadata": {},
   "outputs": [],
   "source": [
    "'''Code1'''\n",
    "def sequentialSearch(alist,item):\n",
    "    pos = 0\n",
    "    found = False\n",
    "    while pos < len(alist) and not found:\n",
    "        if alist[pos] == item:\n",
    "            found = True\n",
    "        else:\n",
    "            pos += 1\n",
    "    return found    "
   ]
  },
  {
   "cell_type": "code",
   "execution_count": 2,
   "metadata": {},
   "outputs": [
    {
     "data": {
      "text/plain": [
       "True"
      ]
     },
     "execution_count": 2,
     "metadata": {},
     "output_type": "execute_result"
    }
   ],
   "source": [
    "'''测试'''\n",
    "alist = [1,2,32,45,8,17,19,0,78]\n",
    "sequentialSearch(alist,17)"
   ]
  },
  {
   "cell_type": "code",
   "execution_count": 3,
   "metadata": {},
   "outputs": [
    {
     "data": {
      "text/plain": [
       "False"
      ]
     },
     "execution_count": 3,
     "metadata": {},
     "output_type": "execute_result"
    }
   ],
   "source": [
    "sequentialSearch(alist,7)"
   ]
  },
  {
   "cell_type": "markdown",
   "metadata": {},
   "source": [
    "#### 列表是有序\n",
    "* 此时，当目标值在列表之中时，和上面的搜寻方式一样，依次进行对比；但是当目标值不在列表中时，当搜索到一定程度，我们就可以停止搜索了。\n",
    "* 假定，列表是递增的："
   ]
  },
  {
   "cell_type": "code",
   "execution_count": 13,
   "metadata": {},
   "outputs": [],
   "source": [
    "'''Code2'''\n",
    "def orderedSequentialSearch(alist, item):\n",
    "    pos = 0\n",
    "    found = False\n",
    "    stop = False\n",
    "    while pos < len(alist) and not found and not stop:\n",
    "        if alist[pos] == item:\n",
    "            found = True\n",
    "        else:\n",
    "            if alist[pos] > item:\n",
    "                stop = True\n",
    "            else:\n",
    "                pos = pos + 1\n",
    "    return found"
   ]
  },
  {
   "cell_type": "code",
   "execution_count": 14,
   "metadata": {},
   "outputs": [
    {
     "data": {
      "text/plain": [
       "False"
      ]
     },
     "execution_count": 14,
     "metadata": {},
     "output_type": "execute_result"
    }
   ],
   "source": [
    "'''测试'''\n",
    "alist = [1,3,4,6,17,18,20,99,]\n",
    "orderedSequentialSearch(alist, 100)"
   ]
  },
  {
   "cell_type": "code",
   "execution_count": 15,
   "metadata": {},
   "outputs": [
    {
     "data": {
      "text/plain": [
       "True"
      ]
     },
     "execution_count": 15,
     "metadata": {},
     "output_type": "execute_result"
    }
   ],
   "source": [
    "alist = [1,3,4,6,17,18,20,]\n",
    "orderedSequentialSearch(alist,3)"
   ]
  },
  {
   "cell_type": "markdown",
   "metadata": {},
   "source": [
    "## 二分搜索\n",
    "* 对象：有序列表\n",
    "* 方法：将从中间项开始搜索，而不是从头开始搜索。\n",
    "* 复杂度：log(n)"
   ]
  },
  {
   "cell_type": "code",
   "execution_count": 20,
   "metadata": {},
   "outputs": [
    {
     "data": {
      "text/plain": [
       "True"
      ]
     },
     "execution_count": 20,
     "metadata": {},
     "output_type": "execute_result"
    }
   ],
   "source": [
    "def binarySerach(alist, item):\n",
    "    first = 0\n",
    "    last = len(alist) - 1\n",
    "    found = False\n",
    "    while first <= last and not found:\n",
    "        midpoint = (first + last) // 2\n",
    "        if alist[midpoint] == item:\n",
    "            found = True\n",
    "        else:\n",
    "            if item < alist[midpoint]:\n",
    "                last = midpoint-1\n",
    "            else:\n",
    "                first = midpoint+1\n",
    "    return found\n",
    "alist = [1,2,3,4,7,9,18,23,45,99]\n",
    "binarySerach(alist,18)"
   ]
  },
  {
   "cell_type": "code",
   "execution_count": 21,
   "metadata": {},
   "outputs": [
    {
     "data": {
      "text/plain": [
       "False"
      ]
     },
     "execution_count": 21,
     "metadata": {},
     "output_type": "execute_result"
    }
   ],
   "source": [
    "binarySerach(alist, 100)"
   ]
  },
  {
   "cell_type": "markdown",
   "metadata": {},
   "source": [
    "* 上面的代码很好的展示了分而治之的策略，也很容易想到使用递归的方式："
   ]
  },
  {
   "cell_type": "code",
   "execution_count": 28,
   "metadata": {},
   "outputs": [
    {
     "data": {
      "text/plain": [
       "True"
      ]
     },
     "execution_count": 28,
     "metadata": {},
     "output_type": "execute_result"
    }
   ],
   "source": [
    "'''Code3'''\n",
    "def binarySerach(alist, item):\n",
    "    if len(alist) == 0:\n",
    "        return False\n",
    "    else:\n",
    "        midpoint = len(alist)//2\n",
    "        if alist[midpoint] == item:\n",
    "            return True\n",
    "        else:\n",
    "            if item < alist[midpoint]:\n",
    "                return binarySerach(alist[:midpoint], item)\n",
    "            else:\n",
    "                return binarySerach(alist[midpoint+1:], item)\n",
    "alist = [1,2,3,4,7,9,18,23,45,99]\n",
    "binarySerach(alist,2)"
   ]
  },
  {
   "cell_type": "code",
   "execution_count": 29,
   "metadata": {},
   "outputs": [
    {
     "data": {
      "text/plain": [
       "False"
      ]
     },
     "execution_count": 29,
     "metadata": {},
     "output_type": "execute_result"
    }
   ],
   "source": [
    "binarySerach(alist,19)"
   ]
  },
  {
   "cell_type": "code",
   "execution_count": 30,
   "metadata": {},
   "outputs": [
    {
     "data": {
      "text/plain": [
       "4"
      ]
     },
     "execution_count": 30,
     "metadata": {},
     "output_type": "execute_result"
    }
   ],
   "source": [
    "9//2"
   ]
  },
  {
   "cell_type": "markdown",
   "metadata": {},
   "source": [
    "## 散列\n",
    "* 散列表是一种数据集合，其中的每个数据通过某种特定的方式进行存储以方便以后的查找。散列表的每一个位置叫做槽，能够存放一个数据项，并以从0开始的递增的整数命名。\n",
    "* 某个数据项与在散列表中存储它的槽之间的映射关系叫做 __散列函数__.散列函数可以将任意一个数据项存储道级和中并返回一个介于槽命名区间内的整数。\n",
    "* 如果存在这样一个函数，它能将每一个数据都映射到不同的槽中，那么这样的函数叫做__完美散列函数__"
   ]
  },
  {
   "cell_type": "markdown",
   "metadata": {},
   "source": [
    "* 字典是Python中最有用的数据类型之一。字典是一个可以储存密钥-数据对的关联数据类型。\n",
    "密钥是用来查找和它相关联的数据值的。我们通常把这个想法称作映射。\n",
    "* 映射的抽象数据类型定义如下：它以一个密钥与一个数据值之间关联的无序集合作为结构。\n",
    "映射中的密钥都是独特的，以保证和数据值之间的一一对应关系。映射有以下的相关操作：\n",
    "* Map() 产生一个新的空映射，返回一个空映射的集合。\n",
    "* Put(key,val) 往映射中添加一个新的密钥-数据值对。如果密钥已经存在，那么将旧的数据\n",
    "值置换为新的。\n",
    "* get(key) 给定一个 key 值，返回关联的数据，若不存在，返回None 。\n",
    "* del 从映射中删除一个密钥-数据值对，声明形式为 del map[key]\n",
    "* len() 返回映射中的存储密钥-数据值对的个数\n",
    "* 接下来，使用两个列表来创建一个散列表类来实现映射的数据结构类型，其中一个称为槽，用来存储密钥；另一个称为data，用来存储数据。"
   ]
  },
  {
   "cell_type": "code",
   "execution_count": 33,
   "metadata": {},
   "outputs": [],
   "source": [
    "class HashTable:\n",
    "    def __init__(self):\n",
    "        self.size = 11\n",
    "        self.slots = [None] * self.size\n",
    "        self.data = [None] * self.size\n",
    "    '''散列函数使用的是最简单的求余法，使用的冲突解决技术是“+1”的线性探测'''\n",
    "    def put(self,key,data):\n",
    "        hashvalue = self.hashfunction(key, len(self.slots))\n",
    "        if self.slots[hashvalue] == None:\n",
    "            self.slots[hashvalue] = key\n",
    "            self.data[hashvalue] = data\n",
    "        else:\n",
    "            if self.slots[hashvalue] == key:\n",
    "                self.data[hashvalue] = data\n",
    "            else:\n",
    "                nextslot = self.rehash(hashvalue,len(self.slots))\n",
    "                while self.slots[nextslot] != None and self.slots[nextslot] != key:\n",
    "                    nextslot = self.rehash(nextslot,len(self.slots))\n",
    "                    if self.slots[nextslot] == None:\n",
    "                        self.slots[nextslot] = key\n",
    "                        self.data[nextslot] = data\n",
    "                    else:\n",
    "                        self.data[nextslot] = data\n",
    "    def hashfunction(self, key, size):\n",
    "        return key%size\n",
    "    def rehash(self,oldhash,size):\n",
    "        return (oldhash+1)%size\n",
    "    def get(self, key):\n",
    "        startslot = self.hashfunction(key, len(self.slots))\n",
    "        data = None\n",
    "        stop = False\n",
    "        found = False\n",
    "        position = startslot\n",
    "        while self.slots[position] != None and not found and not stop:\n",
    "            if self.slots[position] == key:\n",
    "                found = True\n",
    "                data = self.data[position]\n",
    "            else:\n",
    "                position = self.rehash(position,len(self.slots))\n",
    "                if position == startslot:\n",
    "                    stop = True\n",
    "        return data\n",
    "    def __getitem__(self,key):\n",
    "        return self.get(key)\n",
    "    def __setitem__(self,key,data):\n",
    "        return self.put(key,data)"
   ]
  },
  {
   "cell_type": "code",
   "execution_count": 50,
   "metadata": {},
   "outputs": [],
   "source": [
    "H = HashTable()"
   ]
  },
  {
   "cell_type": "code",
   "execution_count": 51,
   "metadata": {},
   "outputs": [],
   "source": [
    "H[54] = \"cat\"\n",
    "H[26] = \"dog\"\n",
    "H[20] = \"chicken\"\n",
    "H[17] = \"tiger\"\n",
    "H[22] = \"lion\"\n",
    "H[33] = \"jiji\""
   ]
  },
  {
   "cell_type": "code",
   "execution_count": 52,
   "metadata": {},
   "outputs": [
    {
     "data": {
      "text/plain": [
       "'chicken'"
      ]
     },
     "execution_count": 52,
     "metadata": {},
     "output_type": "execute_result"
    }
   ],
   "source": [
    "H[20]"
   ]
  },
  {
   "cell_type": "code",
   "execution_count": 53,
   "metadata": {},
   "outputs": [
    {
     "data": {
      "text/plain": [
       "'cat'"
      ]
     },
     "execution_count": 53,
     "metadata": {},
     "output_type": "execute_result"
    }
   ],
   "source": [
    "H[54]"
   ]
  },
  {
   "cell_type": "code",
   "execution_count": 54,
   "metadata": {},
   "outputs": [
    {
     "data": {
      "text/plain": [
       "'duck'"
      ]
     },
     "execution_count": 54,
     "metadata": {},
     "output_type": "execute_result"
    }
   ],
   "source": [
    "H[20] = \"duck\"\n",
    "H[20]"
   ]
  },
  {
   "cell_type": "code",
   "execution_count": 55,
   "metadata": {},
   "outputs": [
    {
     "data": {
      "text/plain": [
       "['lion', None, None, None, 'dog', None, 'tiger', None, None, 'duck', 'cat']"
      ]
     },
     "execution_count": 55,
     "metadata": {},
     "output_type": "execute_result"
    }
   ],
   "source": [
    "H.data"
   ]
  },
  {
   "cell_type": "code",
   "execution_count": 56,
   "metadata": {},
   "outputs": [
    {
     "data": {
      "text/plain": [
       "[22, None, None, None, 26, None, 17, None, None, 20, 54]"
      ]
     },
     "execution_count": 56,
     "metadata": {},
     "output_type": "execute_result"
    }
   ],
   "source": [
    "H.slots"
   ]
  },
  {
   "cell_type": "markdown",
   "metadata": {},
   "source": [
    "# 排序\n",
    "## 冒泡排序\n",
    "* 要对一个列表多次重复遍历。它要比较相邻的两项，并且交换顺序排错的项。每对\n",
    "列表实行一次遍历，就有一个最大项排在了正确的位置。"
   ]
  },
  {
   "cell_type": "code",
   "execution_count": 61,
   "metadata": {},
   "outputs": [
    {
     "data": {
      "text/plain": [
       "[1, 2, 3, 4, 7, 9, 10, 22, 30, 32]"
      ]
     },
     "execution_count": 61,
     "metadata": {},
     "output_type": "execute_result"
    }
   ],
   "source": [
    "def bubbleSort(alist):\n",
    "    for passnum in range(len(alist)-1,0,-1):\n",
    "        for i in range(passnum):\n",
    "            if alist[i] > alist[i+1]:\n",
    "                alist[i], alist[i+1] = alist[i+1] , alist[i]\n",
    "alist = [1,3,9,4,7,2,10,30,22,32]\n",
    "bubbleSort(alist)\n",
    "alist"
   ]
  },
  {
   "cell_type": "markdown",
   "metadata": {},
   "source": [
    "## 短路冒泡排序"
   ]
  },
  {
   "cell_type": "code",
   "execution_count": 3,
   "metadata": {},
   "outputs": [],
   "source": [
    "def shortBubbleSort(alist):\n",
    "    exchanges = True\n",
    "    passnum = len(alist)-1\n",
    "    while passnum > 0 and exchanges:\n",
    "        exchanges = False\n",
    "        for i in range(passnum):\n",
    "            if alist[i] > alist[i+1]:\n",
    "                exchanges = True\n",
    "                alist[i],alist[i+1] = alist[i+1],alist[i]\n",
    "                passnum -= 1"
   ]
  },
  {
   "cell_type": "code",
   "execution_count": 5,
   "metadata": {},
   "outputs": [
    {
     "data": {
      "text/plain": [
       "[1, 2, 3, 4, 7, 9, 10, 22, 30, 32]"
      ]
     },
     "execution_count": 5,
     "metadata": {},
     "output_type": "execute_result"
    }
   ],
   "source": [
    "alist = [1,3,9,4,7,2,10,30,22,32]\n",
    "shortBubbleSort(alist)\n",
    "alist"
   ]
  },
  {
   "cell_type": "markdown",
   "metadata": {},
   "source": [
    "## 选择排序\n",
    "* 选择排序提高了冒泡排序的效率，每次遍历只交换一次数据。如果按升序排序，则第一次遍历则最大值已经归位，第二次遍历次大值归位\n",
    "* 需要遍历n-1次。共两层循环，第一次循环为遍历的次数，第二层循环寻找最大值所处的位置。"
   ]
  },
  {
   "cell_type": "code",
   "execution_count": 9,
   "metadata": {},
   "outputs": [
    {
     "data": {
      "text/plain": [
       "[12, 20, 24, 31, 54, 55, 77, 92]"
      ]
     },
     "execution_count": 9,
     "metadata": {},
     "output_type": "execute_result"
    }
   ],
   "source": [
    "def selectSort(alist):\n",
    "    for fillslot in range(len(alist)-1,0,-1):\n",
    "        positionOfMax = 0\n",
    "        for location in range(1,fillslot+1):\n",
    "            if alist[location] > alist[positionOfMax]:\n",
    "                positionOfMax = location\n",
    "        temp = alist[fillslot]\n",
    "        alist[fillslot] = alist[positionOfMax]\n",
    "        alist[positionOfMax] = temp\n",
    "        \n",
    "alist = [54,24,92,77,31,55,20,12]\n",
    "selectSort(alist)\n",
    "alist"
   ]
  },
  {
   "cell_type": "markdown",
   "metadata": {},
   "source": [
    "# 插入排序\n",
    "* 复杂度为O(n^2)"
   ]
  },
  {
   "cell_type": "code",
   "execution_count": 11,
   "metadata": {},
   "outputs": [
    {
     "data": {
      "text/plain": [
       "[12, 20, 23, 28, 31, 44, 54, 55, 77]"
      ]
     },
     "execution_count": 11,
     "metadata": {},
     "output_type": "execute_result"
    }
   ],
   "source": [
    "def insertSort(alist):\n",
    "    for index in range(1,len(alist)):\n",
    "        currentvalue = alist[index]\n",
    "        position = index\n",
    "        while position > 0 and alist[position-1] > currentvalue:\n",
    "            alist[position] = alist[position-1]\n",
    "            position = position - 1\n",
    "            alist[position] = currentvalue\n",
    "alist = [54,12,23,44,77,31,55,20,28]\n",
    "insertSort(alist)\n",
    "alist"
   ]
  },
  {
   "cell_type": "code",
   "execution_count": 13,
   "metadata": {},
   "outputs": [
    {
     "data": {
      "text/plain": [
       "[0, 8, 10, 12, 20, 23, 28, 31, 44, 54, 55, 77]"
      ]
     },
     "execution_count": 13,
     "metadata": {},
     "output_type": "execute_result"
    }
   ],
   "source": [
    "def insertSort(alist):\n",
    "    for index in range(1,len(alist)):\n",
    "        currentvalue = alist[index]\n",
    "        position = index\n",
    "        while position > 0 and alist[position-1] > currentvalue:\n",
    "            alist[position] ,alist[position-1] = alist[position-1] ,alist[position]\n",
    "            position = position - 1\n",
    "alist = [54,12,23,44,77,31,55,20,10,8,0,28]\n",
    "insertSort(alist)\n",
    "alist"
   ]
  },
  {
   "cell_type": "markdown",
   "metadata": {},
   "source": [
    "## 希尔排序\n",
    "* 希尔排序有时又叫做“缩小间隔排序”，它以插入排序为基础，将原来要排序的列表划分为一\n",
    "些子列表，再对每一个子列表执行插入排序，从而实现对插入排序性能的改进。划分子列的特定\n",
    "方法是希尔排序的关键。我们并不是将原始列表分成含有连续元素的子列，而是确定一个划分列\n",
    "表的增量“i”，这个i更准确地说，是划分的间隔。然后把每间隔为i的所有元素选出来组成子列\n",
    "表。"
   ]
  },
  {
   "cell_type": "code",
   "execution_count": 20,
   "metadata": {},
   "outputs": [
    {
     "name": "stdout",
     "output_type": "stream",
     "text": [
      "after increments of size:  4 The list is:  [54, 12, 23, 44, 77, 31, 28, 55, 20]\n",
      "after increments of size:  2 The list is:  [54, 23, 12, 44, 28, 20, 77, 31, 55]\n",
      "after increments of size:  1 The list is:  [12, 20, 23, 28, 31, 44, 54, 55, 77]\n"
     ]
    },
    {
     "data": {
      "text/plain": [
       "[12, 20, 23, 28, 31, 44, 54, 55, 77]"
      ]
     },
     "execution_count": 20,
     "metadata": {},
     "output_type": "execute_result"
    }
   ],
   "source": [
    "def shellSort(alist):\n",
    "    sublistcount = len(alist) // 2\n",
    "    while sublistcount > 0:\n",
    "        for startposition in range(sublistcount):\n",
    "            gapInsertSort(alist, startposition,sublistcount)\n",
    "        print(\"after increments of size: \",sublistcount, \"The list is: \",alist)\n",
    "        sublistcount = sublistcount//2\n",
    "\n",
    "def gapInsertSort(alist,start,gap):\n",
    "    for i in range(start+gap, len(alist), gap):\n",
    "        currentvalue = alist[i]\n",
    "        position = i\n",
    "        while position >= gap and alist[position-gap] > currentvalue:\n",
    "            alist[position] = alist[position-1]\n",
    "            position = position - 1\n",
    "            alist[position] = currentvalue\n",
    "\n",
    "alist = [54,12,23,44,77,31,55,20,28]\n",
    "shellSort(alist)\n",
    "alist"
   ]
  },
  {
   "cell_type": "code",
   "execution_count": 19,
   "metadata": {},
   "outputs": [
    {
     "data": {
      "text/plain": [
       "[4, 8]"
      ]
     },
     "execution_count": 19,
     "metadata": {},
     "output_type": "execute_result"
    }
   ],
   "source": [
    "list(range(4,9,4))"
   ]
  },
  {
   "cell_type": "code",
   "execution_count": 22,
   "metadata": {},
   "outputs": [
    {
     "name": "stdout",
     "output_type": "stream",
     "text": [
      "after increments of size:  6 The list is:  [54, 12, 23, 44, 77, 31, 89, 39, 51, 55, 20, 28]\n",
      "after increments of size:  3 The list is:  [54, 12, 44, 23, 77, 31, 89, 39, 51, 55, 20, 28]\n",
      "after increments of size:  1 The list is:  [12, 20, 23, 28, 31, 39, 44, 51, 54, 55, 77, 89]\n"
     ]
    },
    {
     "data": {
      "text/plain": [
       "[12, 20, 23, 28, 31, 39, 44, 51, 54, 55, 77, 89]"
      ]
     },
     "execution_count": 22,
     "metadata": {},
     "output_type": "execute_result"
    }
   ],
   "source": [
    "def shellSort(alist):\n",
    "    sublistcount = len(alist) // 2\n",
    "    while sublistcount > 0:\n",
    "        for startposition in range(sublistcount):\n",
    "            gapInsertSort(alist, startposition,sublistcount)\n",
    "        print(\"after increments of size: \",sublistcount, \"The list is: \",alist)\n",
    "        sublistcount = sublistcount//2\n",
    "\n",
    "def gapInsertSort(alist,start,gap):\n",
    "    for i in range(len(alist)//gap):\n",
    "        currentvalue = alist[i]\n",
    "        position = i\n",
    "        while position >= gap and alist[position-gap] > currentvalue:\n",
    "            alist[position] = alist[position-1]\n",
    "            position = position - 1\n",
    "            alist[position] = currentvalue\n",
    "\n",
    "alist = [54,12,23,44,77,31,89,39,51,55,20,28]\n",
    "shellSort(alist)\n",
    "alist"
   ]
  },
  {
   "cell_type": "code",
   "execution_count": 23,
   "metadata": {},
   "outputs": [
    {
     "name": "stdout",
     "output_type": "stream",
     "text": [
      "after increments of size:  4 The list is:  [54, 12, 23, 44, 77, 31, 55, 20, 28]\n",
      "after increments of size:  2 The list is:  [54, 12, 23, 44, 77, 31, 55, 20, 28]\n",
      "after increments of size:  1 The list is:  [12, 20, 23, 28, 31, 44, 54, 55, 77]\n"
     ]
    },
    {
     "data": {
      "text/plain": [
       "[12, 20, 23, 28, 31, 44, 54, 55, 77]"
      ]
     },
     "execution_count": 23,
     "metadata": {},
     "output_type": "execute_result"
    }
   ],
   "source": [
    "\n",
    "alist = [54,12,23,44,77,31,55,20,28]\n",
    "shellSort(alist)\n",
    "alist"
   ]
  },
  {
   "cell_type": "markdown",
   "metadata": {},
   "source": [
    "## 归并排序\n",
    "* 归并排序是一种**递归算法**，它持续地将一个列表分成两半。如果列表是空的或者\n",
    "只有一个元素，那么根据定义，它就被排序好了（最基本的情况）。如果列表里的元素超过一\n",
    "个，我们就把列表拆分，然后分别对两个部分调用递归排序。一旦这两个部分被排序好了，那么\n",
    "这种被叫做归并的最基本的操作，就被执行了。归并是这样一个过程：把两个排序好了的列表结\n",
    "合在一起组合成一个单一的，有序的新列表。\n",
    "* 复杂度为O（nlogn）"
   ]
  },
  {
   "cell_type": "code",
   "execution_count": 31,
   "metadata": {},
   "outputs": [],
   "source": [
    "def merge_sort(lst):\n",
    "    if len(lst) <= 1:\n",
    "        return lst          # 从递归中返回长度为1的序列\n",
    "\n",
    "    middle = len(lst) // 2\n",
    "    left = merge_sort(lst[:middle])     # 通过不断递归，将原始序列拆分成n个小序列\n",
    "    right = merge_sort(lst[middle:])\n",
    "    return merge(left, right)\n",
    "\n",
    "def merge(left, right):\n",
    "    i, j = 0, 0\n",
    "    result = []\n",
    "    while i < len(left) and j < len(right):  # 比较传入的两个子序列，对两个子序列进行排序\n",
    "        if left[i] <= right[j]:\n",
    "            result.append(left[i])\n",
    "            i += 1\n",
    "        else:\n",
    "            result.append(right[j])\n",
    "            j += 1\n",
    "    result.extend(left[i:])         # 将排好序的子序列合并\n",
    "    result.extend(right[j:])\n",
    "    return result"
   ]
  },
  {
   "cell_type": "code",
   "execution_count": 32,
   "metadata": {},
   "outputs": [
    {
     "data": {
      "text/plain": [
       "[12, 20, 23, 28, 31, 39, 44, 51, 54, 55, 77, 89]"
      ]
     },
     "execution_count": 32,
     "metadata": {},
     "output_type": "execute_result"
    }
   ],
   "source": [
    "alist = [54,12,23,44,77,31,89,39,51,55,20,28]\n",
    "merge_sort(alist)"
   ]
  },
  {
   "cell_type": "markdown",
   "metadata": {},
   "source": [
    "## 快速排序\n",
    "* 快速排序用了和归并排序一样分而治之的方法来获得同样的优势，但同时不需要使用额外的\n",
    "存储空间。\n",
    "* 快速排序首先选择一个中值。虽然有很多不同的方法来选择这个数值，我们将会简单地选择\n",
    "列表里的第一项。中值的作用在于协助拆分这个列表。中值在最后排序好的列表里的实际位置，\n",
    "我们通常称之为分割点的，是用来把列表变成两个部分来随后分别调用快速排序函数的。\n",
    "* 时间复杂度：O(nlgn)，但是最坏情况下会退化到O（n^2）"
   ]
  },
  {
   "cell_type": "code",
   "execution_count": 34,
   "metadata": {},
   "outputs": [
    {
     "data": {
      "text/plain": [
       "[12, 20, 23, 28, 31, 39, 44, 51, 54, 55, 77, 89]"
      ]
     },
     "execution_count": 34,
     "metadata": {},
     "output_type": "execute_result"
    }
   ],
   "source": [
    "def QuickSort(myList,start,end):\n",
    "    #判断low是否小于high,如果为false,直接返回\n",
    "    if start < end:\n",
    "        i,j = start,end\n",
    "        #设置基准数\n",
    "        base = myList[i]\n",
    "\n",
    "        while i < j:\n",
    "            #如果列表后边的数,比基准数大或相等,则前移一位直到有比基准数小的数出现\n",
    "            while (i < j) and (myList[j] >= base):\n",
    "                j = j - 1\n",
    "\n",
    "            #如找到,则把第j个元素赋值给第个元素i,此时表中i,j个元素相等\n",
    "            myList[i] = myList[j]\n",
    "\n",
    "            #同样的方式比较前半区\n",
    "            while (i < j) and (myList[i] <= base):\n",
    "                i = i + 1\n",
    "            myList[j] = myList[i]\n",
    "        #做完第一轮比较之后,列表被分成了两个半区,并且i=j,需要将这个数设置回base\n",
    "        myList[i] = base\n",
    "\n",
    "        #递归前后半区\n",
    "        QuickSort(myList, start, i - 1)\n",
    "        QuickSort(myList, j + 1, end)\n",
    "    return myList\n",
    "alist = [54,12,23,44,77,31,89,39,51,55,20,28]\n",
    "QuickSort(alist,0,len(alist)-1)"
   ]
  }
 ],
 "metadata": {
  "kernelspec": {
   "display_name": "Python 3",
   "language": "python",
   "name": "python3"
  },
  "language_info": {
   "codemirror_mode": {
    "name": "ipython",
    "version": 3
   },
   "file_extension": ".py",
   "mimetype": "text/x-python",
   "name": "python",
   "nbconvert_exporter": "python",
   "pygments_lexer": "ipython3",
   "version": "3.6.4"
  }
 },
 "nbformat": 4,
 "nbformat_minor": 2
}
