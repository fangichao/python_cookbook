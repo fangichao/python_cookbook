{
 "cells": [
  {
   "cell_type": "markdown",
   "metadata": {},
   "source": [
    "# 9.19 在定义的时候初始化类的成员\n",
    "* 问题：想要在类定义的时候初始化一部分类的成员，而不是等到实例被创建的时候\n",
    "* 方案：本质上，一个元类会在定义时被触发，这时候可以执行一些额外的操作"
   ]
  },
  {
   "cell_type": "code",
   "execution_count": 1,
   "metadata": {},
   "outputs": [],
   "source": [
    "import operator\n",
    "class StructTupleMeta(type):\n",
    "    def __init__(cls,*args, **kwargs):\n",
    "        super().__init__(*args, **kwargs)\n",
    "        for n, name in enumerate(cls._fields):\n",
    "            setattr(cls, name, property(operator.itemgetter(n)))\n",
    "class StructTuple(tuple,metaclass=StructTupleMeta):\n",
    "    _fields = []\n",
    "    def __new__(cls,*args):\n",
    "        if len(args) != len(cls._fields):\n",
    "            raise TypeError(\"{} arguments required\".format(len(cls._fields)))\n",
    "        return super().__new__(cls, args)"
   ]
  },
  {
   "cell_type": "code",
   "execution_count": 2,
   "metadata": {},
   "outputs": [],
   "source": [
    "# 上述代码可以用来定义简单的基于元组的数据结构\n",
    "class Stock(StructTuple):\n",
    "    _fields = ['name','shares','price']\n",
    "class Point(StructTuple):\n",
    "    _fields = ['x','y']"
   ]
  },
  {
   "cell_type": "code",
   "execution_count": 3,
   "metadata": {},
   "outputs": [
    {
     "data": {
      "text/plain": [
       "('ACME', 50, 91.3)"
      ]
     },
     "execution_count": 3,
     "metadata": {},
     "output_type": "execute_result"
    }
   ],
   "source": [
    "s = Stock(\"ACME\", 50, 91.3)\n",
    "s"
   ]
  },
  {
   "cell_type": "code",
   "execution_count": 4,
   "metadata": {},
   "outputs": [
    {
     "data": {
      "text/plain": [
       "'ACME'"
      ]
     },
     "execution_count": 4,
     "metadata": {},
     "output_type": "execute_result"
    }
   ],
   "source": [
    "s[0]"
   ]
  },
  {
   "cell_type": "code",
   "execution_count": 5,
   "metadata": {},
   "outputs": [
    {
     "data": {
      "text/plain": [
       "'ACME'"
      ]
     },
     "execution_count": 5,
     "metadata": {},
     "output_type": "execute_result"
    }
   ],
   "source": [
    "s.name"
   ]
  },
  {
   "cell_type": "code",
   "execution_count": 6,
   "metadata": {},
   "outputs": [
    {
     "data": {
      "text/plain": [
       "50"
      ]
     },
     "execution_count": 6,
     "metadata": {},
     "output_type": "execute_result"
    }
   ],
   "source": [
    "s.shares"
   ]
  },
  {
   "cell_type": "code",
   "execution_count": 7,
   "metadata": {},
   "outputs": [
    {
     "data": {
      "text/plain": [
       "4565.0"
      ]
     },
     "execution_count": 7,
     "metadata": {},
     "output_type": "execute_result"
    }
   ],
   "source": [
    "s.shares * s.price"
   ]
  },
  {
   "cell_type": "code",
   "execution_count": 8,
   "metadata": {},
   "outputs": [
    {
     "ename": "AttributeError",
     "evalue": "can't set attribute",
     "output_type": "error",
     "traceback": [
      "\u001b[1;31m---------------------------------------------------------------------------\u001b[0m",
      "\u001b[1;31mAttributeError\u001b[0m                            Traceback (most recent call last)",
      "\u001b[1;32m<ipython-input-8-b50f5c8ac48e>\u001b[0m in \u001b[0;36m<module>\u001b[1;34m()\u001b[0m\n\u001b[1;32m----> 1\u001b[1;33m \u001b[0ms\u001b[0m\u001b[1;33m.\u001b[0m\u001b[0mshares\u001b[0m \u001b[1;33m=\u001b[0m \u001b[1;36m30\u001b[0m\u001b[1;33m\u001b[0m\u001b[0m\n\u001b[0m",
      "\u001b[1;31mAttributeError\u001b[0m: can't set attribute"
     ]
    }
   ],
   "source": [
    "s.shares = 30"
   ]
  },
  {
   "cell_type": "markdown",
   "metadata": {},
   "source": [
    "# 9.20 利用函数注解来实现方法的重载\n",
    "* 问题：已经学会了使用函数参数注解，想使用它实现基于类型的方法重载\n",
    "* 方案:如下"
   ]
  },
  {
   "cell_type": "code",
   "execution_count": 9,
   "metadata": {},
   "outputs": [],
   "source": [
    "class Spam:\n",
    "    def bar(self, x:int, y:int):\n",
    "        print('Bar 1:', x,y)\n",
    "    def bar(self,s:str, n:int = 0):\n",
    "        print('Bar 2:', s, n)\n",
    "s = Spam()"
   ]
  },
  {
   "cell_type": "code",
   "execution_count": 10,
   "metadata": {},
   "outputs": [
    {
     "name": "stdout",
     "output_type": "stream",
     "text": [
      "Bar 2: 1 2\n"
     ]
    }
   ],
   "source": [
    "s.bar(1,2)"
   ]
  },
  {
   "cell_type": "code",
   "execution_count": 11,
   "metadata": {},
   "outputs": [
    {
     "name": "stdout",
     "output_type": "stream",
     "text": [
      "Bar 2: hello 100\n"
     ]
    }
   ],
   "source": [
    "s.bar('hello',100)"
   ]
  },
  {
   "cell_type": "code",
   "execution_count": 12,
   "metadata": {},
   "outputs": [
    {
     "name": "stdout",
     "output_type": "stream",
     "text": [
      "Bar 2: hello 0\n"
     ]
    }
   ],
   "source": [
    "s.bar('hello')"
   ]
  },
  {
   "cell_type": "markdown",
   "metadata": {},
   "source": [
    "* 下面开始第一步，使用到了一个元类和描述器"
   ]
  },
  {
   "cell_type": "code",
   "execution_count": 16,
   "metadata": {},
   "outputs": [],
   "source": [
    "import inspect\n",
    "import types\n",
    "class MultiMethod:\n",
    "    def __init__(self, name):\n",
    "        self._methods = {}\n",
    "        self.__name__ = name\n",
    "    def register(self,meth):\n",
    "        sig = inspect.signature(meth)\n",
    "        types = []\n",
    "        for name, parm in sig.parameters.items():\n",
    "            if name == 'self':\n",
    "                continue\n",
    "            if parm.annotation is inspect.Parameter.empty:\n",
    "                raise TypeError(\"Argument {} must be annotation with a type\".format(name))\n",
    "            if not isinstance(parm.annotation,type):\n",
    "                raise TypeError(\"Argument {} must be annotation with a type\".format(name))\n",
    "            if parm.default is not inspect.Parameter.empty:\n",
    "                self._methods[tuple(types)] = meth\n",
    "            types.append(parm.annotation)\n",
    "        self._methods[tuple(types)] = meth\n",
    "    def __call__(self,*args):\n",
    "        types = tuple(type(arg) for arg in args[1:])\n",
    "        meth = self._methods.get(types,None)\n",
    "        if meth:\n",
    "            return meth(*args)\n",
    "        else:\n",
    "            raise TypeError(\" No matching method for types {}\".format(types))\n",
    "    def __get__(self,instance,cls):\n",
    "        if instance is not None:\n",
    "            return types.MethodType(self, instance)\n",
    "        else:\n",
    "            return self\n",
    "class MultiDict(dict):\n",
    "    def __setitem__(self,key,value):\n",
    "        if key in self:\n",
    "            current_value = self[key]\n",
    "            if isinstance(current_value,MultiMethod):\n",
    "                current_value.register(value)\n",
    "            else:\n",
    "                mvalue = MultiMethod(key)\n",
    "                mvalue.register(current_value)\n",
    "                mvalue.register(value)\n",
    "                super().__setitem__(key, mvalue)\n",
    "        else:\n",
    "            super().__setitem__(key, value)\n",
    "class MultipleMeta(type):\n",
    "    def __new__(cls, clsname, bases, clsdict):\n",
    "        return type.__new__(cls,clsname,bases, dict(clsdict))\n",
    "    @classmethod\n",
    "    def __prepare__(cls, clsnae, bases):\n",
    "        return MultiDict()"
   ]
  },
  {
   "cell_type": "code",
   "execution_count": 17,
   "metadata": {},
   "outputs": [],
   "source": [
    "#  使用\n",
    "class Spam(metaclass=MultipleMeta):\n",
    "    def bar(self, x:int, y:int):\n",
    "        print(\"Bar1: \", x, y)\n",
    "    def bar(self, s:str, n:int = 0):\n",
    "        print(\"Bar2: \",s, n)\n",
    "\n",
    "import time\n",
    "class Date(metaclass=MultipleMeta):\n",
    "    def __init__(self,year:int, month:int, day:int):\n",
    "        self.year = year\n",
    "        self.month = month\n",
    "        self.day = day\n",
    "    def __init__(self):\n",
    "        t = time.localtime()\n",
    "        self.__init__(t.tm_year,t.tm_mon,t.tm_mday)"
   ]
  },
  {
   "cell_type": "code",
   "execution_count": 18,
   "metadata": {},
   "outputs": [
    {
     "name": "stdout",
     "output_type": "stream",
     "text": [
      "Bar1:  2 3\n"
     ]
    }
   ],
   "source": [
    "s = Spam()\n",
    "s.bar(2,3)"
   ]
  },
  {
   "cell_type": "code",
   "execution_count": 19,
   "metadata": {},
   "outputs": [
    {
     "name": "stdout",
     "output_type": "stream",
     "text": [
      "Bar2:  hello 0\n"
     ]
    }
   ],
   "source": [
    "s.bar('hello')"
   ]
  },
  {
   "cell_type": "code",
   "execution_count": 20,
   "metadata": {},
   "outputs": [
    {
     "name": "stdout",
     "output_type": "stream",
     "text": [
      "Bar2:  hello 5\n"
     ]
    }
   ],
   "source": [
    "s.bar('hello',5)"
   ]
  },
  {
   "cell_type": "code",
   "execution_count": 21,
   "metadata": {},
   "outputs": [
    {
     "ename": "TypeError",
     "evalue": " No matching method for types (<class 'int'>, <class 'str'>)",
     "output_type": "error",
     "traceback": [
      "\u001b[1;31m---------------------------------------------------------------------------\u001b[0m",
      "\u001b[1;31mTypeError\u001b[0m                                 Traceback (most recent call last)",
      "\u001b[1;32m<ipython-input-21-f306f96769e1>\u001b[0m in \u001b[0;36m<module>\u001b[1;34m()\u001b[0m\n\u001b[1;32m----> 1\u001b[1;33m \u001b[0ms\u001b[0m\u001b[1;33m.\u001b[0m\u001b[0mbar\u001b[0m\u001b[1;33m(\u001b[0m\u001b[1;36m3\u001b[0m\u001b[1;33m,\u001b[0m\u001b[1;34m'hello'\u001b[0m\u001b[1;33m)\u001b[0m\u001b[1;33m\u001b[0m\u001b[0m\n\u001b[0m",
      "\u001b[1;32m<ipython-input-16-ef226f50c070>\u001b[0m in \u001b[0;36m__call__\u001b[1;34m(self, *args)\u001b[0m\n\u001b[0;32m     25\u001b[0m             \u001b[1;32mreturn\u001b[0m \u001b[0mmeth\u001b[0m\u001b[1;33m(\u001b[0m\u001b[1;33m*\u001b[0m\u001b[0margs\u001b[0m\u001b[1;33m)\u001b[0m\u001b[1;33m\u001b[0m\u001b[0m\n\u001b[0;32m     26\u001b[0m         \u001b[1;32melse\u001b[0m\u001b[1;33m:\u001b[0m\u001b[1;33m\u001b[0m\u001b[0m\n\u001b[1;32m---> 27\u001b[1;33m             \u001b[1;32mraise\u001b[0m \u001b[0mTypeError\u001b[0m\u001b[1;33m(\u001b[0m\u001b[1;34m\" No matching method for types {}\"\u001b[0m\u001b[1;33m.\u001b[0m\u001b[0mformat\u001b[0m\u001b[1;33m(\u001b[0m\u001b[0mtypes\u001b[0m\u001b[1;33m)\u001b[0m\u001b[1;33m)\u001b[0m\u001b[1;33m\u001b[0m\u001b[0m\n\u001b[0m\u001b[0;32m     28\u001b[0m     \u001b[1;32mdef\u001b[0m \u001b[0m__get__\u001b[0m\u001b[1;33m(\u001b[0m\u001b[0mself\u001b[0m\u001b[1;33m,\u001b[0m\u001b[0minstance\u001b[0m\u001b[1;33m,\u001b[0m\u001b[0mcls\u001b[0m\u001b[1;33m)\u001b[0m\u001b[1;33m:\u001b[0m\u001b[1;33m\u001b[0m\u001b[0m\n\u001b[0;32m     29\u001b[0m         \u001b[1;32mif\u001b[0m \u001b[0minstance\u001b[0m \u001b[1;32mis\u001b[0m \u001b[1;32mnot\u001b[0m \u001b[1;32mNone\u001b[0m\u001b[1;33m:\u001b[0m\u001b[1;33m\u001b[0m\u001b[0m\n",
      "\u001b[1;31mTypeError\u001b[0m:  No matching method for types (<class 'int'>, <class 'str'>)"
     ]
    }
   ],
   "source": [
    "s.bar(3,'hello')"
   ]
  },
  {
   "cell_type": "code",
   "execution_count": 24,
   "metadata": {},
   "outputs": [
    {
     "data": {
      "text/plain": [
       "2012"
      ]
     },
     "execution_count": 24,
     "metadata": {},
     "output_type": "execute_result"
    }
   ],
   "source": [
    "d = Date(2012,11,15)\n",
    "d.year"
   ]
  },
  {
   "cell_type": "code",
   "execution_count": 26,
   "metadata": {},
   "outputs": [
    {
     "data": {
      "text/plain": [
       "2018"
      ]
     },
     "execution_count": 26,
     "metadata": {},
     "output_type": "execute_result"
    }
   ],
   "source": [
    "e = Date()\n",
    "e.year"
   ]
  },
  {
   "cell_type": "markdown",
   "metadata": {},
   "source": [
    "# 9.21 避免重复的属性方法\n",
    "* 问题：在类中定义了一些逻辑相同的重复代码，比如类型检查，如何简化\n",
    "* 方案：如下"
   ]
  },
  {
   "cell_type": "code",
   "execution_count": 27,
   "metadata": {},
   "outputs": [],
   "source": [
    "class Person:\n",
    "    def __init__(self, name , age):\n",
    "        self.name = name\n",
    "        self.age = age\n",
    "    @property\n",
    "    def name(self):\n",
    "        return self._name\n",
    "    @name.setter\n",
    "    def name(self,value):\n",
    "        if not isinstance(value, str):\n",
    "            raise TypeError('name must be a string')\n",
    "        self._name = value\n",
    "    @property\n",
    "    def age(slef):\n",
    "        return self._age\n",
    "    @age.setter\n",
    "    def age(self,value):\n",
    "        if not isinstance(value, int):\n",
    "            raise TypeError(\"age must be an int\")\n",
    "        self._age = value\n",
    "        "
   ]
  },
  {
   "cell_type": "markdown",
   "metadata": {},
   "source": [
    "* 上面的代码有很多重复的代码，可以使用一个函数来定义属性并返回它"
   ]
  },
  {
   "cell_type": "code",
   "execution_count": 28,
   "metadata": {},
   "outputs": [],
   "source": [
    "def typed_property(name, expexted_type):\n",
    "    storage_name = \"_\" + name\n",
    "    @property\n",
    "    def prop(self):\n",
    "        return getattr(self, storage_name)\n",
    "    @prop.setter\n",
    "    def prop(self, value):\n",
    "        if not isinstance(value, expexted_type):\n",
    "            raise TypeError('{} must be {}'.format(name, expexted_type))\n",
    "        setattr(self,storage_name, value)\n",
    "    return prop\n",
    "\n",
    "class Person:\n",
    "    name  = typed_property('name',str)\n",
    "    age = typed_property('age', int)\n",
    "    def __init__(self,name, age):\n",
    "        self.age = age\n",
    "        self.name = name\n",
    "        "
   ]
  },
  {
   "cell_type": "code",
   "execution_count": 29,
   "metadata": {},
   "outputs": [],
   "source": [
    "p = Person('Lily',20)"
   ]
  },
  {
   "cell_type": "code",
   "execution_count": 30,
   "metadata": {},
   "outputs": [
    {
     "data": {
      "text/plain": [
       "20"
      ]
     },
     "execution_count": 30,
     "metadata": {},
     "output_type": "execute_result"
    }
   ],
   "source": [
    "p.age"
   ]
  },
  {
   "cell_type": "code",
   "execution_count": 31,
   "metadata": {},
   "outputs": [
    {
     "data": {
      "text/plain": [
       "'Lily'"
      ]
     },
     "execution_count": 31,
     "metadata": {},
     "output_type": "execute_result"
    }
   ],
   "source": [
    "p.name"
   ]
  },
  {
   "cell_type": "markdown",
   "metadata": {},
   "source": [
    "# 9.22 定义上下文管理器的简单方法\n",
    "* 问题：需要实现一个新的上下文管理器，以便使用with语句\n",
    "* 方案：使用contextlib模块中的@contextmanager装饰器"
   ]
  },
  {
   "cell_type": "code",
   "execution_count": 45,
   "metadata": {},
   "outputs": [
    {
     "name": "stdout",
     "output_type": "stream",
     "text": [
      "counting:0.011967897415161133\n"
     ]
    }
   ],
   "source": [
    "import time\n",
    "from contextlib import contextmanager\n",
    "@contextmanager\n",
    "def timethis(label):\n",
    "    start = time.time()\n",
    "    try:\n",
    "        yield\n",
    "    finally:\n",
    "        end = time.time()\n",
    "        print(\"{}:{}\".format(label, end-start))\n",
    "with timethis('counting'):\n",
    "    n = 100000\n",
    "    while n>0:\n",
    "        n -= 1"
   ]
  },
  {
   "cell_type": "markdown",
   "metadata": {},
   "source": [
    "* 在函数 timethis() 中， yield 之前的代码会在上下文管理器中作为 __enter__()\n",
    "方法执行，所有在 yield 之后的代码会作为 __exit__() 方法执行。如果出现了异常，\n",
    "异常会在 yield 语句那里抛出。"
   ]
  },
  {
   "cell_type": "markdown",
   "metadata": {},
   "source": [
    "* 下面是一个更加高级的上下文管理器，实现了列表对象上的某种事务"
   ]
  },
  {
   "cell_type": "code",
   "execution_count": 46,
   "metadata": {},
   "outputs": [],
   "source": [
    "@contextmanager\n",
    "def list_transaction(orig_list):\n",
    "    working = list(orig_list)\n",
    "    yield working\n",
    "    orig_list[:] = working"
   ]
  },
  {
   "cell_type": "markdown",
   "metadata": {},
   "source": [
    "* 这段代码的作用是任何对列表的修改只有当所有代码运行完成并且不出现异常的\n",
    "情况下才会生效"
   ]
  },
  {
   "cell_type": "code",
   "execution_count": 47,
   "metadata": {},
   "outputs": [],
   "source": [
    "items = [1,2,3]\n",
    "with list_transaction(items) as working:\n",
    "    working.append(4)\n",
    "    working.append(5)"
   ]
  },
  {
   "cell_type": "code",
   "execution_count": 48,
   "metadata": {},
   "outputs": [
    {
     "data": {
      "text/plain": [
       "[1, 2, 3, 4, 5]"
      ]
     },
     "execution_count": 48,
     "metadata": {},
     "output_type": "execute_result"
    }
   ],
   "source": [
    "items"
   ]
  },
  {
   "cell_type": "code",
   "execution_count": 49,
   "metadata": {},
   "outputs": [
    {
     "ename": "RuntimeError",
     "evalue": "oops",
     "output_type": "error",
     "traceback": [
      "\u001b[1;31m---------------------------------------------------------------------------\u001b[0m",
      "\u001b[1;31mRuntimeError\u001b[0m                              Traceback (most recent call last)",
      "\u001b[1;32m<ipython-input-49-4230d9b92354>\u001b[0m in \u001b[0;36m<module>\u001b[1;34m()\u001b[0m\n\u001b[0;32m      2\u001b[0m     \u001b[0mworking\u001b[0m\u001b[1;33m.\u001b[0m\u001b[0mappend\u001b[0m\u001b[1;33m(\u001b[0m\u001b[1;36m6\u001b[0m\u001b[1;33m)\u001b[0m\u001b[1;33m\u001b[0m\u001b[0m\n\u001b[0;32m      3\u001b[0m     \u001b[0mworking\u001b[0m\u001b[1;33m.\u001b[0m\u001b[0mappend\u001b[0m\u001b[1;33m(\u001b[0m\u001b[1;36m7\u001b[0m\u001b[1;33m)\u001b[0m\u001b[1;33m\u001b[0m\u001b[0m\n\u001b[1;32m----> 4\u001b[1;33m     \u001b[1;32mraise\u001b[0m \u001b[0mRuntimeError\u001b[0m\u001b[1;33m(\u001b[0m\u001b[1;34m\"oops\"\u001b[0m\u001b[1;33m)\u001b[0m\u001b[1;33m\u001b[0m\u001b[0m\n\u001b[0m",
      "\u001b[1;31mRuntimeError\u001b[0m: oops"
     ]
    }
   ],
   "source": [
    "with list_transaction(items) as working:\n",
    "    working.append(6)\n",
    "    working.append(7)\n",
    "    raise RuntimeError(\"oops\")"
   ]
  },
  {
   "cell_type": "code",
   "execution_count": 50,
   "metadata": {},
   "outputs": [
    {
     "data": {
      "text/plain": [
       "[1, 2, 3, 4, 5]"
      ]
     },
     "execution_count": 50,
     "metadata": {},
     "output_type": "execute_result"
    }
   ],
   "source": [
    "items"
   ]
  },
  {
   "cell_type": "markdown",
   "metadata": {},
   "source": [
    "# 9.23 在局部变量域中执行代码\n",
    "* 问题：想要在使用范围内执行某片代码，并且希望在执行后所有的结果都不可见\n",
    "* 方案：如下\n",
    "* 首先，在全局命名空间内执行一个代码段："
   ]
  },
  {
   "cell_type": "code",
   "execution_count": 52,
   "metadata": {},
   "outputs": [
    {
     "name": "stdout",
     "output_type": "stream",
     "text": [
      "15\n"
     ]
    }
   ],
   "source": [
    "a = 14\n",
    "exec('b = a + 1')\n",
    "print(b)"
   ]
  },
  {
   "cell_type": "markdown",
   "metadata": {},
   "source": [
    "* 然后在一个函数中执行同样的代码"
   ]
  },
  {
   "cell_type": "code",
   "execution_count": 56,
   "metadata": {},
   "outputs": [],
   "source": [
    "def test():\n",
    "    a = 14\n",
    "    exec('b = a + 1')\n",
    "    print(b)"
   ]
  },
  {
   "cell_type": "code",
   "execution_count": 57,
   "metadata": {},
   "outputs": [
    {
     "name": "stdout",
     "output_type": "stream",
     "text": [
      "15\n"
     ]
    }
   ],
   "source": [
    "test()"
   ]
  },
  {
   "cell_type": "markdown",
   "metadata": {},
   "source": [
    "* 上面的代码在书中会报NameError的错误\n",
    "* 默认\n",
    "情况下， exec() 会在调用者局部和全局范围内执行代码。然而，在函数里面，传递给\n",
    "exec() 的局部范围是拷贝实际局部变量组成的一个字典。因此，如果 exec() 如果执\n",
    "行了修改操作，这种修改后的结果对实际局部变量值是没有影响的。"
   ]
  },
  {
   "cell_type": "code",
   "execution_count": 58,
   "metadata": {},
   "outputs": [
    {
     "name": "stdout",
     "output_type": "stream",
     "text": [
      "0\n"
     ]
    }
   ],
   "source": [
    "def test1():\n",
    "    x = 0\n",
    "    exec('x += 1')\n",
    "    print(x)\n",
    "test1()"
   ]
  },
  {
   "cell_type": "markdown",
   "metadata": {},
   "source": [
    "* 当你调用 locals() 获取局部变量时，你获得的是传递给 exec() 的\n",
    "局部变量的一个拷贝。通过在代码执行后审查这个字典的值，那就能获取修改后的值\n",
    "了."
   ]
  },
  {
   "cell_type": "code",
   "execution_count": 59,
   "metadata": {},
   "outputs": [
    {
     "name": "stdout",
     "output_type": "stream",
     "text": [
      "before:  {'x': 0}\n",
      "after:  {'x': 1, 'loc': {...}}\n",
      "x =  0\n"
     ]
    }
   ],
   "source": [
    "def test2():\n",
    "    x = 0\n",
    "    loc = locals()\n",
    "    print(\"before: \",loc)\n",
    "    exec('x += 1')\n",
    "    print(\"after: \",loc)\n",
    "    print(\"x = \",x)\n",
    "test2()"
   ]
  },
  {
   "cell_type": "markdown",
   "metadata": {},
   "source": [
    "* 在使用 locals() 的时候，要注意操作顺序。每次它被调用的时候， locals()\n",
    "会获取局部变量值中的值并覆盖字典中相应的变量。"
   ]
  },
  {
   "cell_type": "code",
   "execution_count": 60,
   "metadata": {},
   "outputs": [
    {
     "name": "stdout",
     "output_type": "stream",
     "text": [
      "{'x': 0}\n",
      "{'x': 1, 'loc': {...}}\n",
      "{'x': 0, 'loc': {...}}\n"
     ]
    }
   ],
   "source": [
    "def test3():\n",
    "    x = 0\n",
    "    loc = locals()\n",
    "    print(loc)\n",
    "    exec('x += 1')\n",
    "    print(loc)\n",
    "    locals()\n",
    "    print(loc)\n",
    "test3()"
   ]
  },
  {
   "cell_type": "markdown",
   "metadata": {},
   "source": [
    "* 作为locals的一个替代方案，可以使用自己的字典，并将它传递给exec()"
   ]
  },
  {
   "cell_type": "code",
   "execution_count": 61,
   "metadata": {},
   "outputs": [
    {
     "name": "stdout",
     "output_type": "stream",
     "text": [
      "15\n"
     ]
    }
   ],
   "source": [
    "def test4():\n",
    "    a = 14\n",
    "    loc = {'a':a}\n",
    "    glb = {}\n",
    "    exec('b = a + 1',glb, loc)\n",
    "    b = loc['b']\n",
    "    print(b)\n",
    "test4()"
   ]
  },
  {
   "cell_type": "markdown",
   "metadata": {},
   "source": [
    "# 9.24 解析并分析python的源代码\n",
    "* 问题：如题\n",
    "* 方案：如下"
   ]
  },
  {
   "cell_type": "code",
   "execution_count": 62,
   "metadata": {},
   "outputs": [
    {
     "data": {
      "text/plain": [
       "46"
      ]
     },
     "execution_count": 62,
     "metadata": {},
     "output_type": "execute_result"
    }
   ],
   "source": [
    "# 我们知道，python可以执行字符串形式的代码：\n",
    "x = 32\n",
    "eval('2 + 3 * 4 + x')"
   ]
  },
  {
   "cell_type": "code",
   "execution_count": 64,
   "metadata": {},
   "outputs": [
    {
     "name": "stdout",
     "output_type": "stream",
     "text": [
      "0\n",
      "1\n",
      "2\n",
      "3\n",
      "4\n"
     ]
    }
   ],
   "source": [
    "exec('for i in range(5): print(i)')"
   ]
  },
  {
   "cell_type": "markdown",
   "metadata": {},
   "source": [
    "* ast 模块可以将python的源代码编译成可以被分析的抽象语法树（AST）"
   ]
  },
  {
   "cell_type": "code",
   "execution_count": 66,
   "metadata": {},
   "outputs": [
    {
     "data": {
      "text/plain": [
       "<_ast.Expression at 0x158ea10>"
      ]
     },
     "execution_count": 66,
     "metadata": {},
     "output_type": "execute_result"
    }
   ],
   "source": [
    "import ast\n",
    "ex = ast.parse('2 + 3*4 + x', mode='eval')\n",
    "ex"
   ]
  },
  {
   "cell_type": "code",
   "execution_count": 67,
   "metadata": {},
   "outputs": [
    {
     "data": {
      "text/plain": [
       "\"Expression(body=BinOp(left=BinOp(left=Num(n=2), op=Add(), right=BinOp(left=Num(n=3), op=Mult(), right=Num(n=4))), op=Add(), right=Name(id='x', ctx=Load())))\""
      ]
     },
     "execution_count": 67,
     "metadata": {},
     "output_type": "execute_result"
    }
   ],
   "source": [
    "ast.dump(ex)"
   ]
  },
  {
   "cell_type": "code",
   "execution_count": 68,
   "metadata": {},
   "outputs": [
    {
     "data": {
      "text/plain": [
       "<_ast.Module at 0x1a0d130>"
      ]
     },
     "execution_count": 68,
     "metadata": {},
     "output_type": "execute_result"
    }
   ],
   "source": [
    "top = ast.parse('for i in range(5): pritn(i)')\n",
    "top"
   ]
  },
  {
   "cell_type": "code",
   "execution_count": 69,
   "metadata": {},
   "outputs": [
    {
     "data": {
      "text/plain": [
       "\"Module(body=[For(target=Name(id='i', ctx=Store()), iter=Call(func=Name(id='range', ctx=Load()), args=[Num(n=5)], keywords=[]), body=[Expr(value=Call(func=Name(id='pritn', ctx=Load()), args=[Name(id='i', ctx=Load())], keywords=[]))], orelse=[])])\""
      ]
     },
     "execution_count": 69,
     "metadata": {},
     "output_type": "execute_result"
    }
   ],
   "source": [
    "ast.dump(top)"
   ]
  },
  {
   "cell_type": "markdown",
   "metadata": {},
   "source": [
    "# 9.25 拆解python字节码\n",
    "* 问题：想要通过你的代码反编译成低级的字节码来查看它的底层工作机制\n",
    "* 方案：使用dis模块"
   ]
  },
  {
   "cell_type": "code",
   "execution_count": 1,
   "metadata": {},
   "outputs": [
    {
     "name": "stdout",
     "output_type": "stream",
     "text": [
      "  2           0 SETUP_LOOP              30 (to 32)\n",
      "        >>    2 LOAD_FAST                0 (n)\n",
      "              4 LOAD_CONST               1 (0)\n",
      "              6 COMPARE_OP               4 (>)\n",
      "              8 POP_JUMP_IF_FALSE       30\n",
      "\n",
      "  3          10 LOAD_GLOBAL              0 (print)\n",
      "             12 LOAD_CONST               2 ('T-minus')\n",
      "             14 LOAD_FAST                0 (n)\n",
      "             16 CALL_FUNCTION            2\n",
      "             18 POP_TOP\n",
      "\n",
      "  4          20 LOAD_FAST                0 (n)\n",
      "             22 LOAD_CONST               3 (1)\n",
      "             24 INPLACE_SUBTRACT\n",
      "             26 STORE_FAST               0 (n)\n",
      "             28 JUMP_ABSOLUTE            2\n",
      "        >>   30 POP_BLOCK\n",
      "\n",
      "  5     >>   32 LOAD_GLOBAL              0 (print)\n",
      "             34 LOAD_CONST               4 ('Blastoff!')\n",
      "             36 CALL_FUNCTION            1\n",
      "             38 POP_TOP\n",
      "             40 LOAD_CONST               0 (None)\n",
      "             42 RETURN_VALUE\n"
     ]
    }
   ],
   "source": [
    "def countdown(n):\n",
    "    while n > 0:\n",
    "        print('T-minus',n)\n",
    "        n -= 1\n",
    "    print('Blastoff!')\n",
    "import dis\n",
    "dis.dis(countdown)"
   ]
  },
  {
   "cell_type": "code",
   "execution_count": 2,
   "metadata": {},
   "outputs": [
    {
     "data": {
      "text/plain": [
       "b'x\\x1e|\\x00d\\x01k\\x04r\\x1et\\x00d\\x02|\\x00\\x83\\x02\\x01\\x00|\\x00d\\x038\\x00}\\x00q\\x02W\\x00t\\x00d\\x04\\x83\\x01\\x01\\x00d\\x00S\\x00'"
      ]
     },
     "execution_count": 2,
     "metadata": {},
     "output_type": "execute_result"
    }
   ],
   "source": [
    "countdown.__code__.co_code"
   ]
  },
  {
   "cell_type": "code",
   "execution_count": null,
   "metadata": {},
   "outputs": [],
   "source": []
  }
 ],
 "metadata": {
  "kernelspec": {
   "display_name": "Python 3",
   "language": "python",
   "name": "python3"
  },
  "language_info": {
   "codemirror_mode": {
    "name": "ipython",
    "version": 3
   },
   "file_extension": ".py",
   "mimetype": "text/x-python",
   "name": "python",
   "nbconvert_exporter": "python",
   "pygments_lexer": "ipython3",
   "version": "3.6.4"
  }
 },
 "nbformat": 4,
 "nbformat_minor": 2
}
