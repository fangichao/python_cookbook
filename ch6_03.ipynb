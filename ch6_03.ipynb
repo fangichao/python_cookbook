{
 "cells": [
  {
   "cell_type": "markdown",
   "metadata": {},
   "source": [
    "# 6.9编码喝解码十六进制\n",
    "* 问题：如何将十六进制字符串解码成一个字节字符串或者反过来执行\n",
    "* 方案：可以使用binascii模块的b2a_hex()和a2b_hex()"
   ]
  },
  {
   "cell_type": "code",
   "execution_count": 2,
   "metadata": {},
   "outputs": [
    {
     "data": {
      "text/plain": [
       "b'68656c6c6f'"
      ]
     },
     "execution_count": 2,
     "metadata": {},
     "output_type": "execute_result"
    }
   ],
   "source": [
    "import binascii\n",
    "s = b'hello'\n",
    "h = binascii.b2a_hex(s)\n",
    "h"
   ]
  },
  {
   "cell_type": "code",
   "execution_count": 3,
   "metadata": {},
   "outputs": [
    {
     "data": {
      "text/plain": [
       "b'hello'"
      ]
     },
     "execution_count": 3,
     "metadata": {},
     "output_type": "execute_result"
    }
   ],
   "source": [
    "binascii.a2b_hex(h)"
   ]
  },
  {
   "cell_type": "markdown",
   "metadata": {},
   "source": [
    "* 也可以使用base64模块"
   ]
  },
  {
   "cell_type": "code",
   "execution_count": 7,
   "metadata": {},
   "outputs": [
    {
     "data": {
      "text/plain": [
       "b'68656C6C6F'"
      ]
     },
     "execution_count": 7,
     "metadata": {},
     "output_type": "execute_result"
    }
   ],
   "source": [
    "import base64\n",
    "h = base64.b16encode(s)\n",
    "h"
   ]
  },
  {
   "cell_type": "code",
   "execution_count": 9,
   "metadata": {},
   "outputs": [
    {
     "data": {
      "text/plain": [
       "b'hello'"
      ]
     },
     "execution_count": 9,
     "metadata": {},
     "output_type": "execute_result"
    }
   ],
   "source": [
    "base64.b16decode(h)"
   ]
  },
  {
   "cell_type": "markdown",
   "metadata": {},
   "source": [
    "* 注意：b26encode()和b26decode()只能操作大写形式的十六进制字母，而binascii可以处理大小写\n",
    "* 上述两个模块输出都是字节字符串，如果想要以Unicode输出，需要额外指令"
   ]
  },
  {
   "cell_type": "code",
   "execution_count": 12,
   "metadata": {},
   "outputs": [
    {
     "data": {
      "text/plain": [
       "b'68656C6C6F'"
      ]
     },
     "execution_count": 12,
     "metadata": {},
     "output_type": "execute_result"
    }
   ],
   "source": [
    "h = base64.b16encode(s)\n",
    "h"
   ]
  },
  {
   "cell_type": "code",
   "execution_count": 13,
   "metadata": {},
   "outputs": [
    {
     "data": {
      "text/plain": [
       "'68656C6C6F'"
      ]
     },
     "execution_count": 13,
     "metadata": {},
     "output_type": "execute_result"
    }
   ],
   "source": [
    "h.decode('ascii')"
   ]
  },
  {
   "cell_type": "markdown",
   "metadata": {},
   "source": [
    "# 6.10编码解码Base64数据\n",
    "* 问题：需要使用Base64格式解码编码二进制数据\n",
    "* 方案：b64encode()和b64decode()"
   ]
  },
  {
   "cell_type": "code",
   "execution_count": 15,
   "metadata": {},
   "outputs": [
    {
     "data": {
      "text/plain": [
       "b'aGVsbG8='"
      ]
     },
     "execution_count": 15,
     "metadata": {},
     "output_type": "execute_result"
    }
   ],
   "source": [
    "import base64\n",
    "s = b'hello'\n",
    "a = base64.b64encode(s)\n",
    "a"
   ]
  },
  {
   "cell_type": "code",
   "execution_count": 18,
   "metadata": {},
   "outputs": [
    {
     "data": {
      "text/plain": [
       "b'hello'"
      ]
     },
     "execution_count": 18,
     "metadata": {},
     "output_type": "execute_result"
    }
   ],
   "source": [
    "b = base64.b64decode(a)\n",
    "b"
   ]
  },
  {
   "cell_type": "code",
   "execution_count": 20,
   "metadata": {},
   "outputs": [
    {
     "data": {
      "text/plain": [
       "'aGVsbG8='"
      ]
     },
     "execution_count": 20,
     "metadata": {},
     "output_type": "execute_result"
    }
   ],
   "source": [
    "base64.b64encode(s).decode('ascii')"
   ]
  },
  {
   "cell_type": "markdown",
   "metadata": {},
   "source": [
    "# 6.11读写二进制数组数据\n",
    "* 问题：如何读写一个二进制数组的结构化数据到python元组中去\n",
    "* 方案：使用struct模块"
   ]
  },
  {
   "cell_type": "markdown",
   "metadata": {},
   "source": [
    "* 写入"
   ]
  },
  {
   "cell_type": "code",
   "execution_count": 25,
   "metadata": {},
   "outputs": [],
   "source": [
    "from struct import Struct\n",
    "'''将一个元组写入到二进制文件'''\n",
    "def write_records(records, format, f):\n",
    "    record_struct = Struct(format)\n",
    "    for r in records:\n",
    "        f.write(record_struct.pack(*r))"
   ]
  },
  {
   "cell_type": "code",
   "execution_count": 26,
   "metadata": {},
   "outputs": [],
   "source": [
    "records = [(1,2.3,4.5),\n",
    "          (6,3.4,5.8),\n",
    "          (12,13.5,56.8)\n",
    "          ]\n",
    "with open('data_file/data.b','wb') as f:\n",
    "    write_records(records,'<idd',f)"
   ]
  },
  {
   "cell_type": "markdown",
   "metadata": {},
   "source": [
    "* 读取(以块的形式，增量式读取)"
   ]
  },
  {
   "cell_type": "code",
   "execution_count": 27,
   "metadata": {},
   "outputs": [],
   "source": [
    "from struct import Struct\n",
    "def read_records(format,f):\n",
    "    record_struct = Struct(format)\n",
    "    chunks = iter(lambda: f.read(record_struct.size),b'')\n",
    "    return (record_struct.unpack(chunk) for chunk in chunks)"
   ]
  },
  {
   "cell_type": "code",
   "execution_count": 28,
   "metadata": {},
   "outputs": [
    {
     "name": "stdout",
     "output_type": "stream",
     "text": [
      "(1, 2.3, 4.5)\n",
      "(6, 3.4, 5.8)\n",
      "(12, 13.5, 56.8)\n"
     ]
    }
   ],
   "source": [
    "with open('data_file/data.b','rb') as f:\n",
    "    for rec in read_records('<idd',f):\n",
    "        print(rec)"
   ]
  },
  {
   "cell_type": "markdown",
   "metadata": {},
   "source": [
    "* 读取（整个文件一次性读取到一个字节字符串，然后分片解析）"
   ]
  },
  {
   "cell_type": "code",
   "execution_count": 29,
   "metadata": {},
   "outputs": [],
   "source": [
    "from struct import Struct \n",
    "def unpack_records(format,data):\n",
    "    record_struct = Struct(format)\n",
    "    return (record_struct.unpack_from(data,offset) for offset in range(0,len(data),record_struct.size))"
   ]
  },
  {
   "cell_type": "code",
   "execution_count": 30,
   "metadata": {},
   "outputs": [
    {
     "name": "stdout",
     "output_type": "stream",
     "text": [
      "(1, 2.3, 4.5)\n",
      "(6, 3.4, 5.8)\n",
      "(12, 13.5, 56.8)\n"
     ]
    }
   ],
   "source": [
    "with open('data_file/data.b','rb') as f:\n",
    "    data = f.read()\n",
    "    for rec in unpack_records('<idd',data):\n",
    "        print(rec)"
   ]
  },
  {
   "cell_type": "markdown",
   "metadata": {},
   "source": [
    "* 结构体通常会使用一些结构码值 i, d, f 等。这些代码分别代表某个特定的二进制数据类型如 32 位整数， 64 位浮点数， 32 位浮点数等。第一个字符 <指定了字节顺序。在这个例子中，它表示”低位在前”。更改这个字符为 > 表示高位在前，或者是 ! 表示网络字节顺序\n",
    "* size 属性包含了结构的字节数，这在 I/O 操作时非常有用。 pack() 和 unpack() 方法被用来打包和解包数据"
   ]
  },
  {
   "cell_type": "code",
   "execution_count": 31,
   "metadata": {},
   "outputs": [
    {
     "data": {
      "text/plain": [
       "20"
      ]
     },
     "execution_count": 31,
     "metadata": {},
     "output_type": "execute_result"
    }
   ],
   "source": [
    "from struct import Struct\n",
    "record_struct = Struct('<idd')\n",
    "record_struct.size"
   ]
  },
  {
   "cell_type": "code",
   "execution_count": 32,
   "metadata": {},
   "outputs": [
    {
     "data": {
      "text/plain": [
       "b'\\x01\\x00\\x00\\x00\\x00\\x00\\x00\\x00\\x00\\x00\\x00@\\x00\\x00\\x00\\x00\\x00\\x00\\x08@'"
      ]
     },
     "execution_count": 32,
     "metadata": {},
     "output_type": "execute_result"
    }
   ],
   "source": [
    "record_struct.pack(1,2.0,3.0)"
   ]
  },
  {
   "cell_type": "code",
   "execution_count": 33,
   "metadata": {},
   "outputs": [
    {
     "data": {
      "text/plain": [
       "(1, 2.0, 3.0)"
      ]
     },
     "execution_count": 33,
     "metadata": {},
     "output_type": "execute_result"
    }
   ],
   "source": [
    "record_struct.unpack(_)"
   ]
  },
  {
   "cell_type": "markdown",
   "metadata": {},
   "source": [
    "* iter() 被用来创建一个返回固定大小数据块的迭代器，这个迭代器会不断的调用一个用户提供的可调用对象 (比如 lambda: f.read(record_struct.size) )，直到它返回一个特殊的值 (如 b’‘)，这时候迭代停止"
   ]
  },
  {
   "cell_type": "code",
   "execution_count": 38,
   "metadata": {},
   "outputs": [
    {
     "name": "stdout",
     "output_type": "stream",
     "text": [
      "20\n",
      "b'\\x01\\x00\\x00\\x00ffffff\\x02@\\x00\\x00\\x00\\x00\\x00\\x00\\x12@' \n",
      "\n",
      "20\n",
      "b'\\x06\\x00\\x00\\x00333333\\x0b@333333\\x17@' \n",
      "\n",
      "20\n",
      "b'\\x0c\\x00\\x00\\x00\\x00\\x00\\x00\\x00\\x00\\x00+@ffffffL@' \n",
      "\n"
     ]
    }
   ],
   "source": [
    "with open('data_file/data.b','rb') as f:\n",
    "    chunks = iter(lambda: f.read(20),b'')\n",
    "    for chunk in chunks:\n",
    "        print(len(chunk))\n",
    "        print(chunk,'\\n')"
   ]
  },
  {
   "cell_type": "markdown",
   "metadata": {},
   "source": [
    "* unpack_from() 对于从一个大型二进制数组中提取二进制数据非常有用，因为它不会产生任何的临时对象或者进行内存复制操作。你只需要给它一个字节字符串 (或数组) 和一个字节偏移量，它会从那个位置开始直接解包数据"
   ]
  },
  {
   "cell_type": "markdown",
   "metadata": {},
   "source": [
    "* 在解包时命名元组会很有用"
   ]
  },
  {
   "cell_type": "code",
   "execution_count": 40,
   "metadata": {},
   "outputs": [
    {
     "name": "stdout",
     "output_type": "stream",
     "text": [
      "1 2.3 4.5\n",
      "6 3.4 5.8\n",
      "12 13.5 56.8\n"
     ]
    }
   ],
   "source": [
    "from collections import namedtuple\n",
    "Record = namedtuple('Racord',['kind','x','y'])\n",
    "with open('data_file/data.b','rb') as f:\n",
    "    records = (Record(*r) for r in read_records('<idd',f))\n",
    "    for r in records:\n",
    "        print(r.kind,r.x,r.y)"
   ]
  },
  {
   "cell_type": "markdown",
   "metadata": {},
   "source": [
    "* 如果是处理大量的二进制数据，可以使用numpy"
   ]
  },
  {
   "cell_type": "code",
   "execution_count": 42,
   "metadata": {},
   "outputs": [
    {
     "name": "stdout",
     "output_type": "stream",
     "text": [
      "[( 1,  2.3,  4.5) ( 6,  3.4,  5.8) (12, 13.5, 56.8)]\n"
     ]
    }
   ],
   "source": [
    "import numpy as np\n",
    "with open('data_file/data.b','rb') as f :\n",
    "    records =  np.fromfile(f,dtype='<i,<d,<d')\n",
    "    print(records)"
   ]
  },
  {
   "cell_type": "markdown",
   "metadata": {},
   "source": [
    "# 6.12读取嵌套和可变长的二进制数据\n",
    "* 问题：读取包含嵌套或者可变长记录集合的复杂二进制格式的数据\n",
    "* 方案：struct模块几乎可以处理所有二进制的数据结构"
   ]
  },
  {
   "cell_type": "code",
   "execution_count": 5,
   "metadata": {},
   "outputs": [],
   "source": [
    "#写\n",
    "polys = [[ (1.0, 2.5), (3.5, 4.0), (2.5, 1.5) ],\n",
    "         [ (7.0, 1.2), (5.1, 3.0), (0.5, 7.5), (0.8, 9.0) ],\n",
    "         [ (3.4, 6.3), (1.2, 0.5), (4.6, 9.2) ],\n",
    "        ]\n",
    "import struct\n",
    "import itertools\n",
    "def write_polys(filename,polys):\n",
    "    flattened = list(itertools.chain(*polys))\n",
    "    min_x = min(x for x,y in flattened)\n",
    "    max_x = max(x for x,y in flattened)\n",
    "    min_y = min(y for x,y in flattened)\n",
    "    max_y = max(y for x,y in flattened)\n",
    "    with open(filename,'wb') as f:\n",
    "        f.write(struct.pack('iddddi',0x1234,min_x,min_y,max_x,max_y,len(polys)))\n",
    "        for poly in polys:\n",
    "            size = len(poly) * struct.calcsize('<idd')\n",
    "            f.write(struct.pack('<i',size+4))\n",
    "            for pt in poly:\n",
    "                f.write(struct.pack('<dd',*pt))"
   ]
  },
  {
   "cell_type": "code",
   "execution_count": 6,
   "metadata": {},
   "outputs": [],
   "source": [
    "# 读\n",
    "def read_polys(filename):\n",
    "    with open(filename,'rb') as f:\n",
    "        header = f.read(40)\n",
    "        file_code, min_x,min_y,max_x,max_y,num_polys = struct.unpack('<iddddi',header)\n",
    "        polys = []\n",
    "        for n in range(num_polys):\n",
    "            pbytes = struct.unpack('<i',f.read(4))\n",
    "            poly = []\n",
    "            for m in range(pbytes//16):\n",
    "                pt = struct.unpack('<dd',f.read(16))\n",
    "                poly.append(pt)\n",
    "            polys.append(poly)\n",
    "        return polys"
   ]
  },
  {
   "cell_type": "markdown",
   "metadata": {},
   "source": [
    "* 上述代码过于繁琐，参考下面得代码"
   ]
  },
  {
   "cell_type": "code",
   "execution_count": 9,
   "metadata": {},
   "outputs": [],
   "source": [
    "import struct\n",
    "class StructField:\n",
    "    def __init__(self,format,offset):\n",
    "        self.format = format\n",
    "        self.offset = offset\n",
    "    def __get__(self,instance,cls):\n",
    "        if  instance is None:\n",
    "            return self\n",
    "        else:\n",
    "            r = struct.unpack_from(self.foramt,instance._buffer,se.f.offset)\n",
    "            return r[0] if len(r) == 1 else r\n",
    "        \n",
    "class Structure:\n",
    "    def __init__(self,bytedata):\n",
    "        self._buffer = memoryview(bytedata)\n",
    "        \n",
    "class PolyHeader(structure):\n",
    "    file_code = StructField('<i',0)\n",
    "    min_x = StructField('<d',4)\n",
    "    min_y = StructField('<d',12)\n",
    "    max_x = StructField('<d',20)\n",
    "    max_y = StructField('<d',28)\n",
    "    num_polys = StructField('<i',36)\n",
    "    "
   ]
  },
  {
   "cell_type": "code",
   "execution_count": null,
   "metadata": {},
   "outputs": [],
   "source": []
  }
 ],
 "metadata": {
  "kernelspec": {
   "display_name": "Python 3",
   "language": "python",
   "name": "python3"
  },
  "language_info": {
   "codemirror_mode": {
    "name": "ipython",
    "version": 3
   },
   "file_extension": ".py",
   "mimetype": "text/x-python",
   "name": "python",
   "nbconvert_exporter": "python",
   "pygments_lexer": "ipython3",
   "version": "3.6.4"
  }
 },
 "nbformat": 4,
 "nbformat_minor": 2
}
